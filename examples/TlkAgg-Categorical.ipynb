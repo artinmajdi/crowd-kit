{
 "cells": [
  {
   "cell_type": "code",
   "execution_count": 14,
   "metadata": {},
   "outputs": [],
   "source": [
    "%%capture\n",
    "# !pip install -U crowd-kit\n"
   ]
  },
  {
   "cell_type": "code",
   "execution_count": 4,
   "metadata": {},
   "outputs": [
    {
     "name": "stdout",
     "output_type": "stream",
     "text": [
      "data_dir: /Volumes/GoogleDrive/My Drive/RESEARCH/phd/code/crowd_kit\n"
     ]
    }
   ],
   "source": [
    "from crowdkit.datasets import load_dataset\n",
    "import pandas as pd\n",
    "# import opencv2 as cv\n",
    "import os, sys \n",
    "import ipywidgets\n",
    "data_dir = os.path.dirname(os.path.realpath('.'))\n",
    "sys.path.append(data_dir)\n",
    "print('data_dir:', data_dir)"
   ]
  },
  {
   "cell_type": "markdown",
   "metadata": {},
   "source": [
    "# Selecting the dataset"
   ]
  },
  {
   "cell_type": "code",
   "execution_count": 5,
   "metadata": {},
   "outputs": [
    {
     "data": {
      "application/vnd.jupyter.widget-view+json": {
       "model_id": "7316c52c91234503a590030c2c90b04f",
       "version_major": 2,
       "version_minor": 0
      },
      "text/plain": [
       "interactive(children=(Dropdown(description='WHICH_DATASET', index=10, options=(('1. kr-vs-kp', 'kr-vs-kp'), ('…"
      ]
     },
     "metadata": {},
     "output_type": "display_data"
    }
   ],
   "source": [
    "dataset = ipywidgets.Dropdown( options = [ ('1. kr-vs-kp'    ,'kr-vs-kp'), \n",
    "                                           ('2. mushroom'    ,'mushroom'),\n",
    "                                           ('3. sick'        ,'sick'),\n",
    "                                           ('4. spambase'    ,'spambase'),\n",
    "                                           ('5. tic-tac-toe' ,'tic-tac-toe'),\n",
    "                                           ('6. splice'      ,'splice'),\n",
    "                                           ('8. waveform'    ,'waveform'),\n",
    "                                           ('9. biodeg'      ,'biodeg'),\n",
    "                                           ('10. horse-colic','horse-colic'),\n",
    "                                           ('11. ionosphere' ,'ionosphere'),\n",
    "                                           ('12. vote'       ,'vote')],      \n",
    "                                value = 'vote')\n",
    "\n",
    "\n",
    "@ipywidgets.interact(WHICH_DATASET = dataset)\n",
    "def read_data(WHICH_DATASET):\n",
    "    if WHICH_DATASET in ['sick','splice','biodeg','vote','horse-colic']:\n",
    "        print('dataset does not exist')\n",
    "\n",
    "    else:\n",
    "        data, feature_columns = load_data.aim1_3_read_download_UCI_database(WHICH_DATASET=WHICH_DATASET, mode='read')\n",
    "        print(data['train'].head(3))\n",
    "        print('train shape:',data['train'].shape)"
   ]
  },
  {
   "cell_type": "code",
   "execution_count": 3,
   "metadata": {},
   "outputs": [],
   "source": [
    "datasets_list = ['TlkAgg-Categorical']\n",
    "data_mode = 'synthetic' # 'synthetic' or 'real'\n",
    "\n",
    "df, df_gt = load_dataset('relevance-2')"
   ]
  },
  {
   "cell_type": "code",
   "execution_count": 30,
   "metadata": {},
   "outputs": [
    {
     "name": "stdout",
     "output_type": "stream",
     "text": [
      "ls: data_dir: No such file or directory\n"
     ]
    }
   ],
   "source": []
  },
  {
   "cell_type": "code",
   "execution_count": 17,
   "metadata": {},
   "outputs": [
    {
     "data": {
      "text/plain": [
       "'/Volumes/GoogleDrive/My Drive/RESEARCH/phd/code/crowd_kit/examples'"
      ]
     },
     "execution_count": 17,
     "metadata": {},
     "output_type": "execute_result"
    }
   ],
   "source": [
    "pwd"
   ]
  },
  {
   "cell_type": "code",
   "execution_count": 19,
   "metadata": {},
   "outputs": [],
   "source": [
    "from crowdkit.aggregation import MajorityVote, Wawa, DawidSkene"
   ]
  },
  {
   "cell_type": "code",
   "execution_count": 20,
   "metadata": {},
   "outputs": [
    {
     "data": {
      "text/plain": [
       "task\n",
       "t0       1\n",
       "t1       1\n",
       "t10      1\n",
       "t100     0\n",
       "t1000    0\n",
       "        ..\n",
       "t9995    1\n",
       "t9996    0\n",
       "t9997    0\n",
       "t9998    0\n",
       "t9999    1\n",
       "Name: agg_label, Length: 99319, dtype: int64"
      ]
     },
     "execution_count": 20,
     "metadata": {},
     "output_type": "execute_result"
    }
   ],
   "source": [
    "agg_mv = MajorityVote().fit_predict(df)\n",
    "agg_mv"
   ]
  },
  {
   "cell_type": "code",
   "execution_count": 21,
   "metadata": {},
   "outputs": [
    {
     "data": {
      "text/plain": [
       "task\n",
       "t0       1\n",
       "t1       1\n",
       "t10      1\n",
       "t100     0\n",
       "t1000    0\n",
       "        ..\n",
       "t9995    1\n",
       "t9996    0\n",
       "t9997    0\n",
       "t9998    0\n",
       "t9999    1\n",
       "Name: agg_label, Length: 99319, dtype: int64"
      ]
     },
     "execution_count": 21,
     "metadata": {},
     "output_type": "execute_result"
    }
   ],
   "source": [
    "agg_wawa = Wawa().fit_predict(df)\n",
    "agg_wawa"
   ]
  },
  {
   "cell_type": "code",
   "execution_count": 22,
   "metadata": {},
   "outputs": [
    {
     "data": {
      "text/plain": [
       "task\n",
       "t30685    1\n",
       "t30008    0\n",
       "t36316    0\n",
       "t15145    1\n",
       "t44785    0\n",
       "         ..\n",
       "t95222    0\n",
       "t83525    0\n",
       "t49227    0\n",
       "t96106    1\n",
       "t16185    1\n",
       "Name: agg_label, Length: 99319, dtype: int64"
      ]
     },
     "execution_count": 22,
     "metadata": {},
     "output_type": "execute_result"
    }
   ],
   "source": [
    "agg_ds = DawidSkene(n_iter=10).fit_predict(df)\n",
    "agg_ds"
   ]
  },
  {
   "cell_type": "code",
   "execution_count": 23,
   "metadata": {},
   "outputs": [],
   "source": [
    "from sklearn.metrics import f1_score"
   ]
  },
  {
   "cell_type": "code",
   "execution_count": 24,
   "metadata": {},
   "outputs": [
    {
     "data": {
      "text/plain": [
       "0.7621861152141802"
      ]
     },
     "execution_count": 24,
     "metadata": {},
     "output_type": "execute_result"
    }
   ],
   "source": [
    "f1_score(df_gt, agg_mv[df_gt.index])"
   ]
  },
  {
   "cell_type": "code",
   "execution_count": 25,
   "metadata": {},
   "outputs": [
    {
     "data": {
      "text/plain": [
       "0.7610675039246467"
      ]
     },
     "execution_count": 25,
     "metadata": {},
     "output_type": "execute_result"
    }
   ],
   "source": [
    "f1_score(df_gt, agg_wawa[df_gt.index])"
   ]
  },
  {
   "cell_type": "code",
   "execution_count": 26,
   "metadata": {},
   "outputs": [
    {
     "data": {
      "text/plain": [
       "0.7883762200532387"
      ]
     },
     "execution_count": 26,
     "metadata": {},
     "output_type": "execute_result"
    }
   ],
   "source": [
    "f1_score(df_gt, agg_ds[df_gt.index])"
   ]
  },
  {
   "cell_type": "code",
   "execution_count": 27,
   "metadata": {},
   "outputs": [
    {
     "data": {
      "text/html": [
       "<div>\n",
       "<style scoped>\n",
       "    .dataframe tbody tr th:only-of-type {\n",
       "        vertical-align: middle;\n",
       "    }\n",
       "\n",
       "    .dataframe tbody tr th {\n",
       "        vertical-align: top;\n",
       "    }\n",
       "\n",
       "    .dataframe thead th {\n",
       "        text-align: right;\n",
       "    }\n",
       "</style>\n",
       "<table border=\"1\" class=\"dataframe\">\n",
       "  <thead>\n",
       "    <tr style=\"text-align: right;\">\n",
       "      <th></th>\n",
       "      <th>task</th>\n",
       "      <th>label</th>\n",
       "    </tr>\n",
       "  </thead>\n",
       "  <tbody>\n",
       "    <tr>\n",
       "      <th>0</th>\n",
       "      <td>t30685</td>\n",
       "      <td>1</td>\n",
       "    </tr>\n",
       "    <tr>\n",
       "      <th>1</th>\n",
       "      <td>t30008</td>\n",
       "      <td>0</td>\n",
       "    </tr>\n",
       "    <tr>\n",
       "      <th>2</th>\n",
       "      <td>t36316</td>\n",
       "      <td>0</td>\n",
       "    </tr>\n",
       "    <tr>\n",
       "      <th>3</th>\n",
       "      <td>t15145</td>\n",
       "      <td>1</td>\n",
       "    </tr>\n",
       "    <tr>\n",
       "      <th>4</th>\n",
       "      <td>t44785</td>\n",
       "      <td>0</td>\n",
       "    </tr>\n",
       "    <tr>\n",
       "      <th>...</th>\n",
       "      <td>...</td>\n",
       "      <td>...</td>\n",
       "    </tr>\n",
       "    <tr>\n",
       "      <th>99314</th>\n",
       "      <td>t95222</td>\n",
       "      <td>0</td>\n",
       "    </tr>\n",
       "    <tr>\n",
       "      <th>99315</th>\n",
       "      <td>t83525</td>\n",
       "      <td>0</td>\n",
       "    </tr>\n",
       "    <tr>\n",
       "      <th>99316</th>\n",
       "      <td>t49227</td>\n",
       "      <td>0</td>\n",
       "    </tr>\n",
       "    <tr>\n",
       "      <th>99317</th>\n",
       "      <td>t96106</td>\n",
       "      <td>1</td>\n",
       "    </tr>\n",
       "    <tr>\n",
       "      <th>99318</th>\n",
       "      <td>t16185</td>\n",
       "      <td>1</td>\n",
       "    </tr>\n",
       "  </tbody>\n",
       "</table>\n",
       "<p>99319 rows × 2 columns</p>\n",
       "</div>"
      ],
      "text/plain": [
       "         task  label\n",
       "0      t30685      1\n",
       "1      t30008      0\n",
       "2      t36316      0\n",
       "3      t15145      1\n",
       "4      t44785      0\n",
       "...       ...    ...\n",
       "99314  t95222      0\n",
       "99315  t83525      0\n",
       "99316  t49227      0\n",
       "99317  t96106      1\n",
       "99318  t16185      1\n",
       "\n",
       "[99319 rows x 2 columns]"
      ]
     },
     "execution_count": 27,
     "metadata": {},
     "output_type": "execute_result"
    }
   ],
   "source": [
    "agg_ds.to_frame('label').reset_index()"
   ]
  },
  {
   "cell_type": "code",
   "execution_count": null,
   "metadata": {},
   "outputs": [],
   "source": []
  }
 ],
 "metadata": {
  "kernelspec": {
   "display_name": "Python 3",
   "language": "python",
   "name": "python3"
  },
  "language_info": {
   "codemirror_mode": {
    "name": "ipython",
    "version": 3
   },
   "file_extension": ".py",
   "mimetype": "text/x-python",
   "name": "python",
   "nbconvert_exporter": "python",
   "pygments_lexer": "ipython3",
   "version": "3.7.11"
  }
 },
 "nbformat": 4,
 "nbformat_minor": 4
}
