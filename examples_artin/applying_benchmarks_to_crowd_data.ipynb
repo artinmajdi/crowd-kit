{
 "cells": [
  {
   "cell_type": "markdown",
   "metadata": {},
   "source": [
    "# <span style=\"color:white; font-family:PT Sans Narrow; font-size:1.1em\"> Import Packages </span>"
   ]
  },
  {
   "cell_type": "code",
   "execution_count": 1,
   "metadata": {},
   "outputs": [
    {
     "name": "stderr",
     "output_type": "stream",
     "text": [
      "2021-12-15 20:51:33.414330: I tensorflow/stream_executor/platform/default/dso_loader.cc:49] Successfully opened dynamic library libcudart.so.10.1\n"
     ]
    },
    {
     "name": "stdout",
     "output_type": "stream",
     "text": [
      "data_dir: /home/u29/mohammadsmajdi/projects/chest_xray/crowd_kit\n"
     ]
    },
    {
     "name": "stderr",
     "output_type": "stream",
     "text": [
      "2021-12-15 20:51:41.727906: I tensorflow/compiler/jit/xla_cpu_device.cc:41] Not creating XLA devices, tf_xla_enable_xla_devices not set\n",
      "2021-12-15 20:51:41.729155: W tensorflow/stream_executor/platform/default/dso_loader.cc:60] Could not load dynamic library 'libcuda.so.1'; dlerror: libcuda.so.1: cannot open shared object file: No such file or directory\n",
      "2021-12-15 20:51:41.729191: W tensorflow/stream_executor/cuda/cuda_driver.cc:326] failed call to cuInit: UNKNOWN ERROR (303)\n",
      "2021-12-15 20:51:41.729228: I tensorflow/stream_executor/cuda/cuda_diagnostics.cc:156] kernel driver does not appear to be running on this host (sdmz-dtn-3.hpc.arizona.edu): /proc/driver/nvidia/version does not exist\n",
      "2021-12-15 20:51:41.729808: I tensorflow/core/platform/cpu_feature_guard.cc:142] This TensorFlow binary is optimized with oneAPI Deep Neural Network Library (oneDNN) to use the following CPU instructions in performance-critical operations:  SSE4.1 SSE4.2 AVX AVX2 AVX512F FMA\n",
      "To enable them in other operations, rebuild TensorFlow with the appropriate compiler flags.\n",
      "2021-12-15 20:51:41.731767: I tensorflow/compiler/jit/xla_gpu_device.cc:99] Not creating XLA devices, tf_xla_enable_xla_devices not set\n"
     ]
    }
   ],
   "source": [
    "%reload_ext autoreload\n",
    "%autoreload 2\n",
    "\n",
    "import os, sys \n",
    "data_dir = os.path.dirname(os.path.realpath('.'))\n",
    "sys.path.append(data_dir)\n",
    "\n",
    "\n",
    "from crowdkit.datasets import load_dataset\n",
    "from crowdkit import aggregation\n",
    "import crowdkit\n",
    "import pandas as pd\n",
    "import ipywidgets\n",
    "import load_data \n",
    "import funcs \n",
    "from sklearn import metrics\n",
    "from classification_benchmark_modified import NistTrecRelevance\n",
    "\n",
    "print('data_dir:', data_dir)\n",
    "\n",
    "%reload_ext load_data\n",
    "%reload_ext funcs\n",
    "%reload_ext classification_benchmark_modified"
   ]
  },
  {
   "cell_type": "markdown",
   "metadata": {},
   "source": [
    "# <span style=\"color:white; opacity:0.7; font-family:PT Sans Narrow; font-size:1.3em\"> 1. Loading & Pre-processing of Data </span>\n",
    "## <span style=\"color:green; font-family:PT Sans Narrow; font-size:1.1em\"> 1.1 Selecting the Dataset </span>\n",
    "\n",
    "\n",
    "List of all datasets:\n",
    "- ('1. kr-vs-kp' ) \n",
    "- ('2. mushroom' )\n",
    "- ('3. sick'     )\n",
    "- ('4. spambase' )\n",
    "- ('5. tic-tac-toe' )\n",
    "- ('6. splice'      )\n",
    "- ('8. waveform'    )\n",
    "- ('9. biodeg'      )\n",
    "- ('10. horse-colic')\n",
    "- ('11. ionosphere' )\n",
    "- ('12. vote'       )\n"
   ]
  },
  {
   "cell_type": "code",
   "execution_count": 2,
   "metadata": {},
   "outputs": [
    {
     "name": "stdout",
     "output_type": "stream",
     "text": [
      "directory found /home/u29/mohammadsmajdi/projects/chest_xray/crowd_kit/data_mine\n",
      "train shape: (281, 35)\n"
     ]
    },
    {
     "data": {
      "text/html": [
       "<div>\n",
       "<style scoped>\n",
       "    .dataframe tbody tr th:only-of-type {\n",
       "        vertical-align: middle;\n",
       "    }\n",
       "\n",
       "    .dataframe tbody tr th {\n",
       "        vertical-align: top;\n",
       "    }\n",
       "\n",
       "    .dataframe thead th {\n",
       "        text-align: right;\n",
       "    }\n",
       "</style>\n",
       "<table border=\"1\" class=\"dataframe\">\n",
       "  <thead>\n",
       "    <tr style=\"text-align: right;\">\n",
       "      <th></th>\n",
       "      <th>a0</th>\n",
       "      <th>a1</th>\n",
       "      <th>a2</th>\n",
       "      <th>a3</th>\n",
       "      <th>a4</th>\n",
       "      <th>a5</th>\n",
       "      <th>a6</th>\n",
       "      <th>a7</th>\n",
       "      <th>a8</th>\n",
       "      <th>a9</th>\n",
       "      <th>...</th>\n",
       "      <th>a25</th>\n",
       "      <th>a26</th>\n",
       "      <th>a27</th>\n",
       "      <th>a28</th>\n",
       "      <th>a29</th>\n",
       "      <th>a30</th>\n",
       "      <th>a31</th>\n",
       "      <th>a32</th>\n",
       "      <th>a33</th>\n",
       "      <th>true</th>\n",
       "    </tr>\n",
       "  </thead>\n",
       "  <tbody>\n",
       "    <tr>\n",
       "      <th>1</th>\n",
       "      <td>1</td>\n",
       "      <td>0</td>\n",
       "      <td>1.0</td>\n",
       "      <td>-0.18829</td>\n",
       "      <td>0.93035</td>\n",
       "      <td>-0.36156</td>\n",
       "      <td>-0.10868</td>\n",
       "      <td>-0.93597</td>\n",
       "      <td>1.00000</td>\n",
       "      <td>-0.04549</td>\n",
       "      <td>...</td>\n",
       "      <td>-0.26569</td>\n",
       "      <td>-0.20468</td>\n",
       "      <td>-0.18401</td>\n",
       "      <td>-0.1904</td>\n",
       "      <td>-0.11593</td>\n",
       "      <td>-0.16626</td>\n",
       "      <td>-0.06288</td>\n",
       "      <td>-0.13738</td>\n",
       "      <td>-0.02447</td>\n",
       "      <td>0</td>\n",
       "    </tr>\n",
       "    <tr>\n",
       "      <th>2</th>\n",
       "      <td>1</td>\n",
       "      <td>0</td>\n",
       "      <td>1.0</td>\n",
       "      <td>-0.03365</td>\n",
       "      <td>1.00000</td>\n",
       "      <td>0.00485</td>\n",
       "      <td>1.00000</td>\n",
       "      <td>-0.12062</td>\n",
       "      <td>0.88965</td>\n",
       "      <td>0.01198</td>\n",
       "      <td>...</td>\n",
       "      <td>-0.40220</td>\n",
       "      <td>0.58984</td>\n",
       "      <td>-0.22145</td>\n",
       "      <td>0.4310</td>\n",
       "      <td>-0.17365</td>\n",
       "      <td>0.60436</td>\n",
       "      <td>-0.24180</td>\n",
       "      <td>0.56045</td>\n",
       "      <td>-0.38238</td>\n",
       "      <td>1</td>\n",
       "    </tr>\n",
       "    <tr>\n",
       "      <th>3</th>\n",
       "      <td>1</td>\n",
       "      <td>0</td>\n",
       "      <td>1.0</td>\n",
       "      <td>-0.45161</td>\n",
       "      <td>1.00000</td>\n",
       "      <td>1.00000</td>\n",
       "      <td>0.71216</td>\n",
       "      <td>-1.00000</td>\n",
       "      <td>0.00000</td>\n",
       "      <td>0.00000</td>\n",
       "      <td>...</td>\n",
       "      <td>0.90695</td>\n",
       "      <td>0.51613</td>\n",
       "      <td>1.00000</td>\n",
       "      <td>1.0000</td>\n",
       "      <td>-0.20099</td>\n",
       "      <td>0.25682</td>\n",
       "      <td>1.00000</td>\n",
       "      <td>-0.32382</td>\n",
       "      <td>1.00000</td>\n",
       "      <td>0</td>\n",
       "    </tr>\n",
       "  </tbody>\n",
       "</table>\n",
       "<p>3 rows × 35 columns</p>\n",
       "</div>"
      ],
      "text/plain": [
       "   a0  a1   a2       a3       a4       a5       a6       a7       a8       a9  \\\n",
       "1   1   0  1.0 -0.18829  0.93035 -0.36156 -0.10868 -0.93597  1.00000 -0.04549   \n",
       "2   1   0  1.0 -0.03365  1.00000  0.00485  1.00000 -0.12062  0.88965  0.01198   \n",
       "3   1   0  1.0 -0.45161  1.00000  1.00000  0.71216 -1.00000  0.00000  0.00000   \n",
       "\n",
       "   ...      a25      a26      a27     a28      a29      a30      a31      a32  \\\n",
       "1  ... -0.26569 -0.20468 -0.18401 -0.1904 -0.11593 -0.16626 -0.06288 -0.13738   \n",
       "2  ... -0.40220  0.58984 -0.22145  0.4310 -0.17365  0.60436 -0.24180  0.56045   \n",
       "3  ...  0.90695  0.51613  1.00000  1.0000 -0.20099  0.25682  1.00000 -0.32382   \n",
       "\n",
       "       a33  true  \n",
       "1 -0.02447     0  \n",
       "2 -0.38238     1  \n",
       "3  1.00000     0  \n",
       "\n",
       "[3 rows x 35 columns]"
      ]
     },
     "execution_count": 2,
     "metadata": {},
     "output_type": "execute_result"
    }
   ],
   "source": [
    "WHICH_DATASET = 'ionosphere'\n",
    "data, feature_columns = load_data.aim1_3_read_download_UCI_database(WHICH_DATASET=WHICH_DATASET, mode='read')\n",
    "\n",
    "print('train shape:',data['train'].shape)\n",
    "data['train'].head(3)"
   ]
  },
  {
   "cell_type": "markdown",
   "metadata": {},
   "source": [
    "## <span style=\"color:green; font-family:PT Sans Narrow; font-size:1.1em\"> 1.2 Finding the noisy labels for each worker </span>"
   ]
  },
  {
   "cell_type": "code",
   "execution_count": 3,
   "metadata": {},
   "outputs": [
    {
     "name": "stderr",
     "output_type": "stream",
     "text": [
      "workers: 100%|██████████| 10/10 [00:02<00:00,  3.87it/s]\n"
     ]
    }
   ],
   "source": [
    "ARLS = {'num_labelers': 10, \n",
    "        'low_dis':      0.3, \n",
    "        'high_dis':     0.9}\n",
    "\n",
    "predicted_labels, uncertainty, true_labels, labelers_strength = funcs.apply_technique_aim_1_3( data = data, ARLS = ARLS, num_simulations = 20,  feature_columns = feature_columns)"
   ]
  },
  {
   "cell_type": "markdown",
   "metadata": {},
   "source": [
    "# <span style=\"color:white; opacity:0.7; font-family:PT Sans Narrow; font-size:1.3em\"> 2. Applying the state of art techniques to the data </span>"
   ]
  },
  {
   "cell_type": "code",
   "execution_count": 21,
   "metadata": {},
   "outputs": [
    {
     "data": {
      "text/html": [
       "<div>\n",
       "<style scoped>\n",
       "    .dataframe tbody tr th:only-of-type {\n",
       "        vertical-align: middle;\n",
       "    }\n",
       "\n",
       "    .dataframe tbody tr th {\n",
       "        vertical-align: top;\n",
       "    }\n",
       "\n",
       "    .dataframe thead th {\n",
       "        text-align: right;\n",
       "    }\n",
       "</style>\n",
       "<table border=\"1\" class=\"dataframe\">\n",
       "  <thead>\n",
       "    <tr style=\"text-align: right;\">\n",
       "      <th>num_labelers</th>\n",
       "      <th>10</th>\n",
       "    </tr>\n",
       "  </thead>\n",
       "  <tbody>\n",
       "    <tr>\n",
       "      <th>GoldMajorityVote</th>\n",
       "      <td>0.825623</td>\n",
       "    </tr>\n",
       "    <tr>\n",
       "      <th>MajorityVote</th>\n",
       "      <td>0.711744</td>\n",
       "    </tr>\n",
       "    <tr>\n",
       "      <th>MMSR</th>\n",
       "      <td>0.900356</td>\n",
       "    </tr>\n",
       "    <tr>\n",
       "      <th>Wawa</th>\n",
       "      <td>0.793594</td>\n",
       "    </tr>\n",
       "    <tr>\n",
       "      <th>ZeroBasedSkill</th>\n",
       "      <td>0.797153</td>\n",
       "    </tr>\n",
       "    <tr>\n",
       "      <th>GLAD</th>\n",
       "      <td>0.911032</td>\n",
       "    </tr>\n",
       "    <tr>\n",
       "      <th>DawidSkene</th>\n",
       "      <td>0.900356</td>\n",
       "    </tr>\n",
       "  </tbody>\n",
       "</table>\n",
       "</div>"
      ],
      "text/plain": [
       "num_labelers            10\n",
       "GoldMajorityVote  0.825623\n",
       "MajorityVote      0.711744\n",
       "MMSR              0.900356\n",
       "Wawa              0.793594\n",
       "ZeroBasedSkill    0.797153\n",
       "GLAD              0.911032\n",
       "DawidSkene        0.900356"
      ]
     },
     "execution_count": 21,
     "metadata": {},
     "output_type": "execute_result"
    }
   ],
   "source": [
    "NTR = NistTrecRelevance(true_labels=true_labels['train'] , num_labelers=ARLS['num_labelers'])\n",
    "NTR.apply_all_benchmarks()\n",
    "NTR.accuracy.T"
   ]
  },
  {
   "cell_type": "code",
   "execution_count": null,
   "metadata": {},
   "outputs": [],
   "source": []
  }
 ],
 "metadata": {
  "interpreter": {
   "hash": "8b8334dab9339717f727a1deaf837b322d7a41c20d15cc86be99a8e69ceec8ce"
  },
  "kernelspec": {
   "display_name": "Python 3.8.12 64-bit ('3.8.12': pyenv)",
   "language": "python",
   "name": "python3"
  },
  "language_info": {
   "codemirror_mode": {
    "name": "ipython",
    "version": 3
   },
   "file_extension": ".py",
   "mimetype": "text/x-python",
   "name": "python",
   "nbconvert_exporter": "python",
   "pygments_lexer": "ipython3",
   "version": "3.9.4"
  },
  "orig_nbformat": 4
 },
 "nbformat": 4,
 "nbformat_minor": 2
}
