{
 "cells": [
  {
   "cell_type": "code",
   "execution_count": 1,
   "metadata": {},
   "outputs": [
    {
     "name": "stderr",
     "output_type": "stream",
     "text": [
      "2021-12-11 10:29:55.649790: I tensorflow/stream_executor/platform/default/dso_loader.cc:49] Successfully opened dynamic library libcudart.so.10.1\n",
      "2021-12-11 10:30:03.828710: I tensorflow/compiler/jit/xla_cpu_device.cc:41] Not creating XLA devices, tf_xla_enable_xla_devices not set\n",
      "2021-12-11 10:30:03.829920: W tensorflow/stream_executor/platform/default/dso_loader.cc:60] Could not load dynamic library 'libcuda.so.1'; dlerror: libcuda.so.1: cannot open shared object file: No such file or directory\n",
      "2021-12-11 10:30:03.829952: W tensorflow/stream_executor/cuda/cuda_driver.cc:326] failed call to cuInit: UNKNOWN ERROR (303)\n",
      "2021-12-11 10:30:03.829987: I tensorflow/stream_executor/cuda/cuda_diagnostics.cc:156] kernel driver does not appear to be running on this host (sdmz-dtn-4.hpc.arizona.edu): /proc/driver/nvidia/version does not exist\n",
      "2021-12-11 10:30:03.830390: I tensorflow/core/platform/cpu_feature_guard.cc:142] This TensorFlow binary is optimized with oneAPI Deep Neural Network Library (oneDNN) to use the following CPU instructions in performance-critical operations:  SSE4.1 SSE4.2 AVX AVX2 AVX512F FMA\n",
      "To enable them in other operations, rebuild TensorFlow with the appropriate compiler flags.\n",
      "2021-12-11 10:30:03.832415: I tensorflow/compiler/jit/xla_gpu_device.cc:99] Not creating XLA devices, tf_xla_enable_xla_devices not set\n"
     ]
    }
   ],
   "source": [
    "%reload_ext autoreload\n",
    "%autoreload 2\n",
    "\n",
    "import os\n",
    "# os.environ[\"CUDA_VISIBLE_DEVICES\"]=\"0\"\n",
    "\n",
    "import sys\n",
    "sys.path.append('../../')\n",
    "\n",
    "import funcs \n",
    "import load_data\n",
    "import numpy as np\n",
    "import pandas as pd\n",
    "from tqdm import tqdm\n",
    "import subprocess\n",
    "from time import time\n",
    "import git\n",
    "import matplotlib.pyplot as plt\n",
    "from scipy.special import bdtrc\n",
    "import warnings\n",
    "import ipywidgets\n",
    "warnings.filterwarnings('ignore')\n",
    "\n",
    "%reload_ext load_data\n",
    "%reload_ext funcs"
   ]
  },
  {
   "cell_type": "markdown",
   "metadata": {},
   "source": [
    "# <span style=\"color:white; opacity:0.7; font-family:PT Sans Narrow; font-size:1.3em\"> 1. Loading the Data </span>\n",
    "## <span style=\"color:green; font-family:PT Sans Narrow; font-size:1.1em\"> 1.1 Selecting the Dataset </span>"
   ]
  },
  {
   "cell_type": "code",
   "execution_count": 5,
   "metadata": {},
   "outputs": [
    {
     "data": {
      "application/vnd.jupyter.widget-view+json": {
       "model_id": "f67149c0f51e43b79d5fe2572c6caaf8",
       "version_major": 2,
       "version_minor": 0
      },
      "text/plain": [
       "interactive(children=(Dropdown(description='WHICH_DATASET', index=9, options=(('1. kr-vs-kp', 'kr-vs-kp'), ('2…"
      ]
     },
     "metadata": {},
     "output_type": "display_data"
    }
   ],
   "source": [
    "dataset = ipywidgets.Dropdown( options = [ ('1. kr-vs-kp'    ,'kr-vs-kp'), \n",
    "                                           ('2. mushroom'    ,'mushroom'),\n",
    "                                           ('3. sick'        ,'sick'),\n",
    "                                           ('4. spambase'    ,'spambase'),\n",
    "                                           ('5. tic-tac-toe' ,'tic-tac-toe'),\n",
    "                                           ('6. splice'      ,'splice'),\n",
    "                                           ('8. waveform'    ,'waveform'),\n",
    "                                           ('9. biodeg'      ,'biodeg'),\n",
    "                                           ('10. horse-colic','horse-colic'),\n",
    "                                           ('11. ionosphere' ,'ionosphere'),\n",
    "                                           ('12. vote'       ,'vote')],      \n",
    "                                value = 'ionosphere')\n",
    "\n",
    "\n",
    "@ipywidgets.interact(WHICH_DATASET = dataset)\n",
    "def read_data(WHICH_DATASET):\n",
    "    if WHICH_DATASET in ['sick','splice','biodeg','vote','horse-colic']:\n",
    "        print('dataset does not exist')\n",
    "\n",
    "    else:\n",
    "        data, feature_columns = load_data.aim1_3_read_download_UCI_database(WHICH_DATASET=WHICH_DATASET, mode='read')\n",
    "        print(data['train'].head(3))\n",
    "        print('train shape:',data['train'].shape)"
   ]
  },
  {
   "cell_type": "markdown",
   "metadata": {},
   "source": [
    "## <span style=\"color:Green; font-family:PT Sans Narrow; font-size:1.1em\"> 1.2 Loading the Dataset </span>"
   ]
  },
  {
   "cell_type": "code",
   "execution_count": 17,
   "metadata": {},
   "outputs": [
    {
     "name": "stdout",
     "output_type": "stream",
     "text": [
      "----------   \n",
      "=======================\n"
     ]
    }
   ],
   "source": [
    "data, feature_columns = load_data.aim1_3_read_download_UCI_database(WHICH_DATASET=dataset.value, mode='read')"
   ]
  },
  {
   "cell_type": "code",
   "execution_count": 19,
   "metadata": {},
   "outputs": [
    {
     "data": {
      "text/html": [
       "<div>\n",
       "<style scoped>\n",
       "    .dataframe tbody tr th:only-of-type {\n",
       "        vertical-align: middle;\n",
       "    }\n",
       "\n",
       "    .dataframe tbody tr th {\n",
       "        vertical-align: top;\n",
       "    }\n",
       "\n",
       "    .dataframe thead th {\n",
       "        text-align: right;\n",
       "    }\n",
       "</style>\n",
       "<table border=\"1\" class=\"dataframe\">\n",
       "  <thead>\n",
       "    <tr style=\"text-align: right;\">\n",
       "      <th></th>\n",
       "      <th>a0</th>\n",
       "      <th>a1</th>\n",
       "      <th>a2</th>\n",
       "      <th>a3</th>\n",
       "      <th>a4</th>\n",
       "      <th>a5</th>\n",
       "      <th>a6</th>\n",
       "      <th>a7</th>\n",
       "      <th>a8</th>\n",
       "      <th>a9</th>\n",
       "      <th>...</th>\n",
       "      <th>a25</th>\n",
       "      <th>a26</th>\n",
       "      <th>a27</th>\n",
       "      <th>a28</th>\n",
       "      <th>a29</th>\n",
       "      <th>a30</th>\n",
       "      <th>a31</th>\n",
       "      <th>a32</th>\n",
       "      <th>a33</th>\n",
       "      <th>true</th>\n",
       "    </tr>\n",
       "  </thead>\n",
       "  <tbody>\n",
       "    <tr>\n",
       "      <th>1</th>\n",
       "      <td>1</td>\n",
       "      <td>0</td>\n",
       "      <td>1.0</td>\n",
       "      <td>-0.18829</td>\n",
       "      <td>0.93035</td>\n",
       "      <td>-0.36156</td>\n",
       "      <td>-0.10868</td>\n",
       "      <td>-0.93597</td>\n",
       "      <td>1.00000</td>\n",
       "      <td>-0.04549</td>\n",
       "      <td>...</td>\n",
       "      <td>-0.26569</td>\n",
       "      <td>-0.20468</td>\n",
       "      <td>-0.18401</td>\n",
       "      <td>-0.1904</td>\n",
       "      <td>-0.11593</td>\n",
       "      <td>-0.16626</td>\n",
       "      <td>-0.06288</td>\n",
       "      <td>-0.13738</td>\n",
       "      <td>-0.02447</td>\n",
       "      <td>0</td>\n",
       "    </tr>\n",
       "    <tr>\n",
       "      <th>2</th>\n",
       "      <td>1</td>\n",
       "      <td>0</td>\n",
       "      <td>1.0</td>\n",
       "      <td>-0.03365</td>\n",
       "      <td>1.00000</td>\n",
       "      <td>0.00485</td>\n",
       "      <td>1.00000</td>\n",
       "      <td>-0.12062</td>\n",
       "      <td>0.88965</td>\n",
       "      <td>0.01198</td>\n",
       "      <td>...</td>\n",
       "      <td>-0.40220</td>\n",
       "      <td>0.58984</td>\n",
       "      <td>-0.22145</td>\n",
       "      <td>0.4310</td>\n",
       "      <td>-0.17365</td>\n",
       "      <td>0.60436</td>\n",
       "      <td>-0.24180</td>\n",
       "      <td>0.56045</td>\n",
       "      <td>-0.38238</td>\n",
       "      <td>1</td>\n",
       "    </tr>\n",
       "    <tr>\n",
       "      <th>3</th>\n",
       "      <td>1</td>\n",
       "      <td>0</td>\n",
       "      <td>1.0</td>\n",
       "      <td>-0.45161</td>\n",
       "      <td>1.00000</td>\n",
       "      <td>1.00000</td>\n",
       "      <td>0.71216</td>\n",
       "      <td>-1.00000</td>\n",
       "      <td>0.00000</td>\n",
       "      <td>0.00000</td>\n",
       "      <td>...</td>\n",
       "      <td>0.90695</td>\n",
       "      <td>0.51613</td>\n",
       "      <td>1.00000</td>\n",
       "      <td>1.0000</td>\n",
       "      <td>-0.20099</td>\n",
       "      <td>0.25682</td>\n",
       "      <td>1.00000</td>\n",
       "      <td>-0.32382</td>\n",
       "      <td>1.00000</td>\n",
       "      <td>0</td>\n",
       "    </tr>\n",
       "  </tbody>\n",
       "</table>\n",
       "<p>3 rows × 35 columns</p>\n",
       "</div>"
      ],
      "text/plain": [
       "   a0  a1   a2       a3       a4       a5       a6       a7       a8       a9  \\\n",
       "1   1   0  1.0 -0.18829  0.93035 -0.36156 -0.10868 -0.93597  1.00000 -0.04549   \n",
       "2   1   0  1.0 -0.03365  1.00000  0.00485  1.00000 -0.12062  0.88965  0.01198   \n",
       "3   1   0  1.0 -0.45161  1.00000  1.00000  0.71216 -1.00000  0.00000  0.00000   \n",
       "\n",
       "   ...      a25      a26      a27     a28      a29      a30      a31      a32  \\\n",
       "1  ... -0.26569 -0.20468 -0.18401 -0.1904 -0.11593 -0.16626 -0.06288 -0.13738   \n",
       "2  ... -0.40220  0.58984 -0.22145  0.4310 -0.17365  0.60436 -0.24180  0.56045   \n",
       "3  ...  0.90695  0.51613  1.00000  1.0000 -0.20099  0.25682  1.00000 -0.32382   \n",
       "\n",
       "       a33  true  \n",
       "1 -0.02447     0  \n",
       "2 -0.38238     1  \n",
       "3  1.00000     0  \n",
       "\n",
       "[3 rows x 35 columns]"
      ]
     },
     "execution_count": 19,
     "metadata": {},
     "output_type": "execute_result"
    }
   ],
   "source": [
    "data['train'].head(3)"
   ]
  },
  {
   "cell_type": "markdown",
   "metadata": {},
   "source": [
    "# <span style=\"color:white; opacity:0.8; font-family:PT Sans Narrow; font-size:1.3em\"> 2.  Final evaluation results: Using just the measured weights </span>\n",
    "\n",
    "Measuring accuracy for proposed techniques, Tao and MV for different number of workers over 20 simulations.\n",
    "\n",
    "1. Applying aim1.3 proposed technique \n",
    "2. Measurinng weights for each worker for different experiements (noisy labels)\n",
    "3. Measuring the benchmark (Tao) accuracy\n",
    "\n",
    "---\n",
    "number of simulations = 20\n",
    "- These simulations are used to measure uncertianty. \n",
    "- All simulations are employed using the same noisy dataset. \n",
    "- The MV over the predicted labels for these 20 is used as the predicted label for proposed method"
   ]
  },
  {
   "cell_type": "code",
   "execution_count": 21,
   "metadata": {},
   "outputs": [
    {
     "name": "stderr",
     "output_type": "stream",
     "text": [
      "workers: 100%|██████████| 20/20 [00:05<00:00,  3.75it/s]\n"
     ]
    }
   ],
   "source": [
    "\n",
    "ARLS = {'num_labelers': 20, \n",
    "        'low_dis':      0.3, \n",
    "        'high_dis':     0.9}\n",
    "\n",
    "predicted_labels, uncertainty, true_labels, labelers_strength = funcs.apply_technique_aim_1_3( data = data, ARLS = ARLS, num_simulations = 20,  feature_columns = feature_columns)"
   ]
  },
  {
   "cell_type": "code",
   "execution_count": null,
   "metadata": {},
   "outputs": [],
   "source": []
  },
  {
   "cell_type": "code",
   "execution_count": null,
   "metadata": {},
   "outputs": [
    {
     "name": "stderr",
     "output_type": "stream",
     "text": [
      "workers: 100%|██████████| 2/2 [00:00<00:00,  3.59it/s]\n",
      "workers: 100%|██████████| 3/3 [00:00<00:00,  3.68it/s]\n",
      "workers: 100%|██████████| 4/4 [00:01<00:00,  3.87it/s]\n",
      "workers: 100%|██████████| 5/5 [00:01<00:00,  3.90it/s]\n",
      "workers: 100%|██████████| 6/6 [00:01<00:00,  3.88it/s]\n",
      "workers: 100%|██████████| 7/7 [00:01<00:00,  3.91it/s]\n",
      "workers: 100%|██████████| 8/8 [00:02<00:00,  3.73it/s]\n",
      "workers: 100%|██████████| 9/9 [00:02<00:00,  3.91it/s]\n",
      "workers: 100%|██████████| 10/10 [00:02<00:00,  3.90it/s]\n",
      "workers: 100%|██████████| 11/11 [00:02<00:00,  3.93it/s]\n",
      "workers: 100%|██████████| 12/12 [00:03<00:00,  3.89it/s]\n",
      "workers: 100%|██████████| 13/13 [00:03<00:00,  3.90it/s]\n",
      "workers: 100%|██████████| 14/14 [00:03<00:00,  3.92it/s]\n",
      "workers: 100%|██████████| 15/15 [00:03<00:00,  3.91it/s]\n",
      "workers: 100%|██████████| 16/16 [00:04<00:00,  3.90it/s]\n",
      "workers: 100%|██████████| 17/17 [00:04<00:00,  3.92it/s]\n",
      "workers: 100%|██████████| 18/18 [00:04<00:00,  3.91it/s]\n",
      "workers:  63%|██████▎   | 12/19 [00:03<00:01,  3.64it/s]\n"
     ]
    },
    {
     "ename": "KeyboardInterrupt",
     "evalue": "",
     "output_type": "error",
     "traceback": [
      "\u001b[0;31m---------------------------------------------------------------------------\u001b[0m",
      "\u001b[0;31mKeyboardInterrupt\u001b[0m                         Traceback (most recent call last)",
      "\u001b[0;32m/tmp/ipykernel_202148/835405980.py\u001b[0m in \u001b[0;36m<module>\u001b[0;34m\u001b[0m\n\u001b[1;32m      8\u001b[0m \u001b[0;32mfor\u001b[0m \u001b[0mNL\u001b[0m \u001b[0;32min\u001b[0m \u001b[0mrange\u001b[0m\u001b[0;34m(\u001b[0m\u001b[0;36m2\u001b[0m\u001b[0;34m,\u001b[0m\u001b[0;36m40\u001b[0m\u001b[0;34m)\u001b[0m\u001b[0;34m:\u001b[0m \u001b[0;31m# number of workers\u001b[0m\u001b[0;34m\u001b[0m\u001b[0;34m\u001b[0m\u001b[0m\n\u001b[1;32m      9\u001b[0m \u001b[0;34m\u001b[0m\u001b[0m\n\u001b[0;32m---> 10\u001b[0;31m     \u001b[0mF_both\u001b[0m\u001b[0;34m,\u001b[0m \u001b[0maccuracy_both\u001b[0m \u001b[0;34m=\u001b[0m \u001b[0mfuncs\u001b[0m\u001b[0;34m.\u001b[0m\u001b[0maim1_3_full_accuracy_comparison\u001b[0m\u001b[0;34m(\u001b[0m\u001b[0mdata\u001b[0m\u001b[0;34m=\u001b[0m\u001b[0mdata\u001b[0m\u001b[0;34m,\u001b[0m \u001b[0mnum_labelers\u001b[0m\u001b[0;34m=\u001b[0m\u001b[0mNL\u001b[0m\u001b[0;34m,\u001b[0m \u001b[0mnum_simulations\u001b[0m\u001b[0;34m=\u001b[0m\u001b[0;36m20\u001b[0m\u001b[0;34m,\u001b[0m \u001b[0mfeature_columns\u001b[0m\u001b[0;34m=\u001b[0m\u001b[0mfeature_columns\u001b[0m\u001b[0;34m)\u001b[0m\u001b[0;34m\u001b[0m\u001b[0;34m\u001b[0m\u001b[0m\n\u001b[0m\u001b[1;32m     11\u001b[0m \u001b[0;34m\u001b[0m\u001b[0m\n\u001b[1;32m     12\u001b[0m     \u001b[0;32mfor\u001b[0m \u001b[0mstrategy\u001b[0m \u001b[0;32min\u001b[0m \u001b[0;34m[\u001b[0m\u001b[0;34m'freq'\u001b[0m\u001b[0;34m,\u001b[0m\u001b[0;34m'beta'\u001b[0m\u001b[0;34m]\u001b[0m\u001b[0;34m:\u001b[0m\u001b[0;34m\u001b[0m\u001b[0;34m\u001b[0m\u001b[0m\n",
      "\u001b[0;32m~/projects/chest_xray/crowd-kit/examples_artin/funcs.py\u001b[0m in \u001b[0;36maim1_3_full_accuracy_comparison\u001b[0;34m(data, num_labelers, num_simulations, feature_columns)\u001b[0m\n\u001b[1;32m    984\u001b[0m             'high_dis':     0.9}\n\u001b[1;32m    985\u001b[0m \u001b[0;34m\u001b[0m\u001b[0m\n\u001b[0;32m--> 986\u001b[0;31m     predicted_labels, uncertainty, true_labels, labelers_strength = apply_technique_aim_1_3( data = data,\n\u001b[0m\u001b[1;32m    987\u001b[0m                                                                                                 \u001b[0mARLS\u001b[0m \u001b[0;34m=\u001b[0m \u001b[0mARLS\u001b[0m\u001b[0;34m,\u001b[0m\u001b[0;34m\u001b[0m\u001b[0;34m\u001b[0m\u001b[0m\n\u001b[1;32m    988\u001b[0m                                                                                                 \u001b[0mnum_simulations\u001b[0m \u001b[0;34m=\u001b[0m \u001b[0mnum_simulations\u001b[0m\u001b[0;34m,\u001b[0m\u001b[0;34m\u001b[0m\u001b[0;34m\u001b[0m\u001b[0m\n",
      "\u001b[0;32m~/projects/chest_xray/crowd-kit/examples_artin/funcs.py\u001b[0m in \u001b[0;36mapply_technique_aim_1_3\u001b[0;34m(data, num_simulations, feature_columns, ARLS)\u001b[0m\n\u001b[1;32m    818\u001b[0m             \u001b[0;31m# predicting the labels using trained networks for both train and test data\u001b[0m\u001b[0;34m\u001b[0m\u001b[0;34m\u001b[0m\u001b[0;34m\u001b[0m\u001b[0m\n\u001b[1;32m    819\u001b[0m             \u001b[0;32mfor\u001b[0m \u001b[0mmode\u001b[0m \u001b[0;32min\u001b[0m \u001b[0;34m[\u001b[0m\u001b[0;34m'train'\u001b[0m\u001b[0;34m,\u001b[0m \u001b[0;34m'test'\u001b[0m\u001b[0;34m]\u001b[0m\u001b[0;34m:\u001b[0m\u001b[0;34m\u001b[0m\u001b[0;34m\u001b[0m\u001b[0m\n\u001b[0;32m--> 820\u001b[0;31m                 \u001b[0mpredicted_labels_all_sims\u001b[0m\u001b[0;34m[\u001b[0m\u001b[0mmode\u001b[0m\u001b[0;34m]\u001b[0m\u001b[0;34m[\u001b[0m\u001b[0mLB\u001b[0m\u001b[0;34m]\u001b[0m\u001b[0;34m[\u001b[0m\u001b[0;34mf'simulation_{i}'\u001b[0m\u001b[0;34m]\u001b[0m \u001b[0;34m=\u001b[0m \u001b[0mRF\u001b[0m\u001b[0;34m.\u001b[0m\u001b[0mpredict\u001b[0m\u001b[0;34m(\u001b[0m \u001b[0mdata\u001b[0m\u001b[0;34m[\u001b[0m\u001b[0mmode\u001b[0m\u001b[0;34m]\u001b[0m\u001b[0;34m[\u001b[0m\u001b[0mfeature_columns\u001b[0m\u001b[0;34m]\u001b[0m \u001b[0;34m)\u001b[0m\u001b[0;34m\u001b[0m\u001b[0;34m\u001b[0m\u001b[0m\n\u001b[0m\u001b[1;32m    821\u001b[0m \u001b[0;34m\u001b[0m\u001b[0m\n\u001b[1;32m    822\u001b[0m \u001b[0;34m\u001b[0m\u001b[0m\n",
      "\u001b[0;32m~/anaconda3/envs/tf2_4/lib/python3.9/site-packages/sklearn/ensemble/_forest.py\u001b[0m in \u001b[0;36mpredict\u001b[0;34m(self, X)\u001b[0m\n\u001b[1;32m    627\u001b[0m             \u001b[0mThe\u001b[0m \u001b[0mpredicted\u001b[0m \u001b[0mclasses\u001b[0m\u001b[0;34m.\u001b[0m\u001b[0;34m\u001b[0m\u001b[0;34m\u001b[0m\u001b[0m\n\u001b[1;32m    628\u001b[0m         \"\"\"\n\u001b[0;32m--> 629\u001b[0;31m         \u001b[0mproba\u001b[0m \u001b[0;34m=\u001b[0m \u001b[0mself\u001b[0m\u001b[0;34m.\u001b[0m\u001b[0mpredict_proba\u001b[0m\u001b[0;34m(\u001b[0m\u001b[0mX\u001b[0m\u001b[0;34m)\u001b[0m\u001b[0;34m\u001b[0m\u001b[0;34m\u001b[0m\u001b[0m\n\u001b[0m\u001b[1;32m    630\u001b[0m \u001b[0;34m\u001b[0m\u001b[0m\n\u001b[1;32m    631\u001b[0m         \u001b[0;32mif\u001b[0m \u001b[0mself\u001b[0m\u001b[0;34m.\u001b[0m\u001b[0mn_outputs_\u001b[0m \u001b[0;34m==\u001b[0m \u001b[0;36m1\u001b[0m\u001b[0;34m:\u001b[0m\u001b[0;34m\u001b[0m\u001b[0;34m\u001b[0m\u001b[0m\n",
      "\u001b[0;32m~/anaconda3/envs/tf2_4/lib/python3.9/site-packages/sklearn/ensemble/_forest.py\u001b[0m in \u001b[0;36mpredict_proba\u001b[0;34m(self, X)\u001b[0m\n\u001b[1;32m    671\u001b[0m         \u001b[0mcheck_is_fitted\u001b[0m\u001b[0;34m(\u001b[0m\u001b[0mself\u001b[0m\u001b[0;34m)\u001b[0m\u001b[0;34m\u001b[0m\u001b[0;34m\u001b[0m\u001b[0m\n\u001b[1;32m    672\u001b[0m         \u001b[0;31m# Check data\u001b[0m\u001b[0;34m\u001b[0m\u001b[0;34m\u001b[0m\u001b[0;34m\u001b[0m\u001b[0m\n\u001b[0;32m--> 673\u001b[0;31m         \u001b[0mX\u001b[0m \u001b[0;34m=\u001b[0m \u001b[0mself\u001b[0m\u001b[0;34m.\u001b[0m\u001b[0m_validate_X_predict\u001b[0m\u001b[0;34m(\u001b[0m\u001b[0mX\u001b[0m\u001b[0;34m)\u001b[0m\u001b[0;34m\u001b[0m\u001b[0;34m\u001b[0m\u001b[0m\n\u001b[0m\u001b[1;32m    674\u001b[0m \u001b[0;34m\u001b[0m\u001b[0m\n\u001b[1;32m    675\u001b[0m         \u001b[0;31m# Assign chunk of trees to jobs\u001b[0m\u001b[0;34m\u001b[0m\u001b[0;34m\u001b[0m\u001b[0;34m\u001b[0m\u001b[0m\n",
      "\u001b[0;32m~/anaconda3/envs/tf2_4/lib/python3.9/site-packages/sklearn/ensemble/_forest.py\u001b[0m in \u001b[0;36m_validate_X_predict\u001b[0;34m(self, X)\u001b[0m\n\u001b[1;32m    419\u001b[0m         \u001b[0mcheck_is_fitted\u001b[0m\u001b[0;34m(\u001b[0m\u001b[0mself\u001b[0m\u001b[0;34m)\u001b[0m\u001b[0;34m\u001b[0m\u001b[0;34m\u001b[0m\u001b[0m\n\u001b[1;32m    420\u001b[0m \u001b[0;34m\u001b[0m\u001b[0m\n\u001b[0;32m--> 421\u001b[0;31m         \u001b[0;32mreturn\u001b[0m \u001b[0mself\u001b[0m\u001b[0;34m.\u001b[0m\u001b[0mestimators_\u001b[0m\u001b[0;34m[\u001b[0m\u001b[0;36m0\u001b[0m\u001b[0;34m]\u001b[0m\u001b[0;34m.\u001b[0m\u001b[0m_validate_X_predict\u001b[0m\u001b[0;34m(\u001b[0m\u001b[0mX\u001b[0m\u001b[0;34m,\u001b[0m \u001b[0mcheck_input\u001b[0m\u001b[0;34m=\u001b[0m\u001b[0;32mTrue\u001b[0m\u001b[0;34m)\u001b[0m\u001b[0;34m\u001b[0m\u001b[0;34m\u001b[0m\u001b[0m\n\u001b[0m\u001b[1;32m    422\u001b[0m \u001b[0;34m\u001b[0m\u001b[0m\n\u001b[1;32m    423\u001b[0m     \u001b[0;34m@\u001b[0m\u001b[0mproperty\u001b[0m\u001b[0;34m\u001b[0m\u001b[0;34m\u001b[0m\u001b[0m\n",
      "\u001b[0;32m~/anaconda3/envs/tf2_4/lib/python3.9/site-packages/sklearn/tree/_classes.py\u001b[0m in \u001b[0;36m_validate_X_predict\u001b[0;34m(self, X, check_input)\u001b[0m\n\u001b[1;32m    386\u001b[0m         \u001b[0;34m\"\"\"Validate X whenever one tries to predict, apply, predict_proba\"\"\"\u001b[0m\u001b[0;34m\u001b[0m\u001b[0;34m\u001b[0m\u001b[0m\n\u001b[1;32m    387\u001b[0m         \u001b[0;32mif\u001b[0m \u001b[0mcheck_input\u001b[0m\u001b[0;34m:\u001b[0m\u001b[0;34m\u001b[0m\u001b[0;34m\u001b[0m\u001b[0m\n\u001b[0;32m--> 388\u001b[0;31m             \u001b[0mX\u001b[0m \u001b[0;34m=\u001b[0m \u001b[0mcheck_array\u001b[0m\u001b[0;34m(\u001b[0m\u001b[0mX\u001b[0m\u001b[0;34m,\u001b[0m \u001b[0mdtype\u001b[0m\u001b[0;34m=\u001b[0m\u001b[0mDTYPE\u001b[0m\u001b[0;34m,\u001b[0m \u001b[0maccept_sparse\u001b[0m\u001b[0;34m=\u001b[0m\u001b[0;34m\"csr\"\u001b[0m\u001b[0;34m)\u001b[0m\u001b[0;34m\u001b[0m\u001b[0;34m\u001b[0m\u001b[0m\n\u001b[0m\u001b[1;32m    389\u001b[0m             if issparse(X) and (X.indices.dtype != np.intc or\n\u001b[1;32m    390\u001b[0m                                 X.indptr.dtype != np.intc):\n",
      "\u001b[0;32m~/anaconda3/envs/tf2_4/lib/python3.9/site-packages/sklearn/utils/validation.py\u001b[0m in \u001b[0;36minner_f\u001b[0;34m(*args, **kwargs)\u001b[0m\n\u001b[1;32m     70\u001b[0m                           FutureWarning)\n\u001b[1;32m     71\u001b[0m         \u001b[0mkwargs\u001b[0m\u001b[0;34m.\u001b[0m\u001b[0mupdate\u001b[0m\u001b[0;34m(\u001b[0m\u001b[0;34m{\u001b[0m\u001b[0mk\u001b[0m\u001b[0;34m:\u001b[0m \u001b[0marg\u001b[0m \u001b[0;32mfor\u001b[0m \u001b[0mk\u001b[0m\u001b[0;34m,\u001b[0m \u001b[0marg\u001b[0m \u001b[0;32min\u001b[0m \u001b[0mzip\u001b[0m\u001b[0;34m(\u001b[0m\u001b[0msig\u001b[0m\u001b[0;34m.\u001b[0m\u001b[0mparameters\u001b[0m\u001b[0;34m,\u001b[0m \u001b[0margs\u001b[0m\u001b[0;34m)\u001b[0m\u001b[0;34m}\u001b[0m\u001b[0;34m)\u001b[0m\u001b[0;34m\u001b[0m\u001b[0;34m\u001b[0m\u001b[0m\n\u001b[0;32m---> 72\u001b[0;31m         \u001b[0;32mreturn\u001b[0m \u001b[0mf\u001b[0m\u001b[0;34m(\u001b[0m\u001b[0;34m**\u001b[0m\u001b[0mkwargs\u001b[0m\u001b[0;34m)\u001b[0m\u001b[0;34m\u001b[0m\u001b[0;34m\u001b[0m\u001b[0m\n\u001b[0m\u001b[1;32m     73\u001b[0m     \u001b[0;32mreturn\u001b[0m \u001b[0minner_f\u001b[0m\u001b[0;34m\u001b[0m\u001b[0;34m\u001b[0m\u001b[0m\n\u001b[1;32m     74\u001b[0m \u001b[0;34m\u001b[0m\u001b[0m\n",
      "\u001b[0;32m~/anaconda3/envs/tf2_4/lib/python3.9/site-packages/sklearn/utils/validation.py\u001b[0m in \u001b[0;36mcheck_array\u001b[0;34m(array, accept_sparse, accept_large_sparse, dtype, order, copy, force_all_finite, ensure_2d, allow_nd, ensure_min_samples, ensure_min_features, estimator)\u001b[0m\n\u001b[1;32m    567\u001b[0m \u001b[0;34m\u001b[0m\u001b[0m\n\u001b[1;32m    568\u001b[0m     \u001b[0;31m# When all dataframe columns are sparse, convert to a sparse array\u001b[0m\u001b[0;34m\u001b[0m\u001b[0;34m\u001b[0m\u001b[0;34m\u001b[0m\u001b[0m\n\u001b[0;32m--> 569\u001b[0;31m     \u001b[0;32mif\u001b[0m \u001b[0mhasattr\u001b[0m\u001b[0;34m(\u001b[0m\u001b[0marray\u001b[0m\u001b[0;34m,\u001b[0m \u001b[0;34m'sparse'\u001b[0m\u001b[0;34m)\u001b[0m \u001b[0;32mand\u001b[0m \u001b[0marray\u001b[0m\u001b[0;34m.\u001b[0m\u001b[0mndim\u001b[0m \u001b[0;34m>\u001b[0m \u001b[0;36m1\u001b[0m\u001b[0;34m:\u001b[0m\u001b[0;34m\u001b[0m\u001b[0;34m\u001b[0m\u001b[0m\n\u001b[0m\u001b[1;32m    570\u001b[0m         \u001b[0;31m# DataFrame.sparse only supports `to_coo`\u001b[0m\u001b[0;34m\u001b[0m\u001b[0;34m\u001b[0m\u001b[0;34m\u001b[0m\u001b[0m\n\u001b[1;32m    571\u001b[0m         \u001b[0marray\u001b[0m \u001b[0;34m=\u001b[0m \u001b[0marray\u001b[0m\u001b[0;34m.\u001b[0m\u001b[0msparse\u001b[0m\u001b[0;34m.\u001b[0m\u001b[0mto_coo\u001b[0m\u001b[0;34m(\u001b[0m\u001b[0;34m)\u001b[0m\u001b[0;34m\u001b[0m\u001b[0;34m\u001b[0m\u001b[0m\n",
      "\u001b[0;32m~/anaconda3/envs/tf2_4/lib/python3.9/site-packages/pandas/core/accessor.py\u001b[0m in \u001b[0;36m__get__\u001b[0;34m(self, obj, cls)\u001b[0m\n\u001b[1;32m    178\u001b[0m             \u001b[0;31m# we're accessing the attribute of the class, i.e., Dataset.geo\u001b[0m\u001b[0;34m\u001b[0m\u001b[0;34m\u001b[0m\u001b[0;34m\u001b[0m\u001b[0m\n\u001b[1;32m    179\u001b[0m             \u001b[0;32mreturn\u001b[0m \u001b[0mself\u001b[0m\u001b[0;34m.\u001b[0m\u001b[0m_accessor\u001b[0m\u001b[0;34m\u001b[0m\u001b[0;34m\u001b[0m\u001b[0m\n\u001b[0;32m--> 180\u001b[0;31m         \u001b[0maccessor_obj\u001b[0m \u001b[0;34m=\u001b[0m \u001b[0mself\u001b[0m\u001b[0;34m.\u001b[0m\u001b[0m_accessor\u001b[0m\u001b[0;34m(\u001b[0m\u001b[0mobj\u001b[0m\u001b[0;34m)\u001b[0m\u001b[0;34m\u001b[0m\u001b[0;34m\u001b[0m\u001b[0m\n\u001b[0m\u001b[1;32m    181\u001b[0m         \u001b[0;31m# Replace the property with the accessor object. Inspired by:\u001b[0m\u001b[0;34m\u001b[0m\u001b[0;34m\u001b[0m\u001b[0;34m\u001b[0m\u001b[0m\n\u001b[1;32m    182\u001b[0m         \u001b[0;31m# https://www.pydanny.com/cached-property.html\u001b[0m\u001b[0;34m\u001b[0m\u001b[0;34m\u001b[0m\u001b[0;34m\u001b[0m\u001b[0m\n",
      "\u001b[0;32m~/anaconda3/envs/tf2_4/lib/python3.9/site-packages/pandas/core/arrays/sparse/accessor.py\u001b[0m in \u001b[0;36m__init__\u001b[0;34m(self, data)\u001b[0m\n\u001b[1;32m     17\u001b[0m     \u001b[0;32mdef\u001b[0m \u001b[0m__init__\u001b[0m\u001b[0;34m(\u001b[0m\u001b[0mself\u001b[0m\u001b[0;34m,\u001b[0m \u001b[0mdata\u001b[0m\u001b[0;34m=\u001b[0m\u001b[0;32mNone\u001b[0m\u001b[0;34m)\u001b[0m\u001b[0;34m:\u001b[0m\u001b[0;34m\u001b[0m\u001b[0;34m\u001b[0m\u001b[0m\n\u001b[1;32m     18\u001b[0m         \u001b[0mself\u001b[0m\u001b[0;34m.\u001b[0m\u001b[0m_parent\u001b[0m \u001b[0;34m=\u001b[0m \u001b[0mdata\u001b[0m\u001b[0;34m\u001b[0m\u001b[0;34m\u001b[0m\u001b[0m\n\u001b[0;32m---> 19\u001b[0;31m         \u001b[0mself\u001b[0m\u001b[0;34m.\u001b[0m\u001b[0m_validate\u001b[0m\u001b[0;34m(\u001b[0m\u001b[0mdata\u001b[0m\u001b[0;34m)\u001b[0m\u001b[0;34m\u001b[0m\u001b[0;34m\u001b[0m\u001b[0m\n\u001b[0m\u001b[1;32m     20\u001b[0m \u001b[0;34m\u001b[0m\u001b[0m\n\u001b[1;32m     21\u001b[0m     \u001b[0;32mdef\u001b[0m \u001b[0m_validate\u001b[0m\u001b[0;34m(\u001b[0m\u001b[0mself\u001b[0m\u001b[0;34m,\u001b[0m \u001b[0mdata\u001b[0m\u001b[0;34m)\u001b[0m\u001b[0;34m:\u001b[0m\u001b[0;34m\u001b[0m\u001b[0;34m\u001b[0m\u001b[0m\n",
      "\u001b[0;32m~/anaconda3/envs/tf2_4/lib/python3.9/site-packages/pandas/core/arrays/sparse/accessor.py\u001b[0m in \u001b[0;36m_validate\u001b[0;34m(self, data)\u001b[0m\n\u001b[1;32m    219\u001b[0m \u001b[0;34m\u001b[0m\u001b[0m\n\u001b[1;32m    220\u001b[0m     \u001b[0;32mdef\u001b[0m \u001b[0m_validate\u001b[0m\u001b[0;34m(\u001b[0m\u001b[0mself\u001b[0m\u001b[0;34m,\u001b[0m \u001b[0mdata\u001b[0m\u001b[0;34m)\u001b[0m\u001b[0;34m:\u001b[0m\u001b[0;34m\u001b[0m\u001b[0;34m\u001b[0m\u001b[0m\n\u001b[0;32m--> 221\u001b[0;31m         \u001b[0mdtypes\u001b[0m \u001b[0;34m=\u001b[0m \u001b[0mdata\u001b[0m\u001b[0;34m.\u001b[0m\u001b[0mdtypes\u001b[0m\u001b[0;34m\u001b[0m\u001b[0;34m\u001b[0m\u001b[0m\n\u001b[0m\u001b[1;32m    222\u001b[0m         \u001b[0;32mif\u001b[0m \u001b[0;32mnot\u001b[0m \u001b[0mall\u001b[0m\u001b[0;34m(\u001b[0m\u001b[0misinstance\u001b[0m\u001b[0;34m(\u001b[0m\u001b[0mt\u001b[0m\u001b[0;34m,\u001b[0m \u001b[0mSparseDtype\u001b[0m\u001b[0;34m)\u001b[0m \u001b[0;32mfor\u001b[0m \u001b[0mt\u001b[0m \u001b[0;32min\u001b[0m \u001b[0mdtypes\u001b[0m\u001b[0;34m)\u001b[0m\u001b[0;34m:\u001b[0m\u001b[0;34m\u001b[0m\u001b[0;34m\u001b[0m\u001b[0m\n\u001b[1;32m    223\u001b[0m             \u001b[0;32mraise\u001b[0m \u001b[0mAttributeError\u001b[0m\u001b[0;34m(\u001b[0m\u001b[0mself\u001b[0m\u001b[0;34m.\u001b[0m\u001b[0m_validation_msg\u001b[0m\u001b[0;34m)\u001b[0m\u001b[0;34m\u001b[0m\u001b[0;34m\u001b[0m\u001b[0m\n",
      "\u001b[0;32m~/anaconda3/envs/tf2_4/lib/python3.9/site-packages/pandas/core/generic.py\u001b[0m in \u001b[0;36mdtypes\u001b[0;34m(self)\u001b[0m\n\u001b[1;32m   5706\u001b[0m         \u001b[0mdtype\u001b[0m\u001b[0;34m:\u001b[0m \u001b[0mobject\u001b[0m\u001b[0;34m\u001b[0m\u001b[0;34m\u001b[0m\u001b[0m\n\u001b[1;32m   5707\u001b[0m         \"\"\"\n\u001b[0;32m-> 5708\u001b[0;31m         \u001b[0mdata\u001b[0m \u001b[0;34m=\u001b[0m \u001b[0mself\u001b[0m\u001b[0;34m.\u001b[0m\u001b[0m_mgr\u001b[0m\u001b[0;34m.\u001b[0m\u001b[0mget_dtypes\u001b[0m\u001b[0;34m(\u001b[0m\u001b[0;34m)\u001b[0m\u001b[0;34m\u001b[0m\u001b[0;34m\u001b[0m\u001b[0m\n\u001b[0m\u001b[1;32m   5709\u001b[0m         \u001b[0;32mreturn\u001b[0m \u001b[0mself\u001b[0m\u001b[0;34m.\u001b[0m\u001b[0m_constructor_sliced\u001b[0m\u001b[0;34m(\u001b[0m\u001b[0mdata\u001b[0m\u001b[0;34m,\u001b[0m \u001b[0mindex\u001b[0m\u001b[0;34m=\u001b[0m\u001b[0mself\u001b[0m\u001b[0;34m.\u001b[0m\u001b[0m_info_axis\u001b[0m\u001b[0;34m,\u001b[0m \u001b[0mdtype\u001b[0m\u001b[0;34m=\u001b[0m\u001b[0mnp\u001b[0m\u001b[0;34m.\u001b[0m\u001b[0mobject_\u001b[0m\u001b[0;34m)\u001b[0m\u001b[0;34m\u001b[0m\u001b[0;34m\u001b[0m\u001b[0m\n\u001b[1;32m   5710\u001b[0m \u001b[0;34m\u001b[0m\u001b[0m\n",
      "\u001b[0;32m~/anaconda3/envs/tf2_4/lib/python3.9/site-packages/pandas/core/internals/managers.py\u001b[0m in \u001b[0;36mget_dtypes\u001b[0;34m(self)\u001b[0m\n\u001b[1;32m    257\u001b[0m     \u001b[0;32mdef\u001b[0m \u001b[0mget_dtypes\u001b[0m\u001b[0;34m(\u001b[0m\u001b[0mself\u001b[0m\u001b[0;34m)\u001b[0m\u001b[0;34m:\u001b[0m\u001b[0;34m\u001b[0m\u001b[0;34m\u001b[0m\u001b[0m\n\u001b[1;32m    258\u001b[0m         \u001b[0mdtypes\u001b[0m \u001b[0;34m=\u001b[0m \u001b[0mnp\u001b[0m\u001b[0;34m.\u001b[0m\u001b[0marray\u001b[0m\u001b[0;34m(\u001b[0m\u001b[0;34m[\u001b[0m\u001b[0mblk\u001b[0m\u001b[0;34m.\u001b[0m\u001b[0mdtype\u001b[0m \u001b[0;32mfor\u001b[0m \u001b[0mblk\u001b[0m \u001b[0;32min\u001b[0m \u001b[0mself\u001b[0m\u001b[0;34m.\u001b[0m\u001b[0mblocks\u001b[0m\u001b[0;34m]\u001b[0m\u001b[0;34m)\u001b[0m\u001b[0;34m\u001b[0m\u001b[0;34m\u001b[0m\u001b[0m\n\u001b[0;32m--> 259\u001b[0;31m         \u001b[0;32mreturn\u001b[0m \u001b[0malgos\u001b[0m\u001b[0;34m.\u001b[0m\u001b[0mtake_1d\u001b[0m\u001b[0;34m(\u001b[0m\u001b[0mdtypes\u001b[0m\u001b[0;34m,\u001b[0m \u001b[0mself\u001b[0m\u001b[0;34m.\u001b[0m\u001b[0mblknos\u001b[0m\u001b[0;34m,\u001b[0m \u001b[0mallow_fill\u001b[0m\u001b[0;34m=\u001b[0m\u001b[0;32mFalse\u001b[0m\u001b[0;34m)\u001b[0m\u001b[0;34m\u001b[0m\u001b[0;34m\u001b[0m\u001b[0m\n\u001b[0m\u001b[1;32m    260\u001b[0m \u001b[0;34m\u001b[0m\u001b[0m\n\u001b[1;32m    261\u001b[0m     \u001b[0;32mdef\u001b[0m \u001b[0m__getstate__\u001b[0m\u001b[0;34m(\u001b[0m\u001b[0mself\u001b[0m\u001b[0;34m)\u001b[0m\u001b[0;34m:\u001b[0m\u001b[0;34m\u001b[0m\u001b[0;34m\u001b[0m\u001b[0m\n",
      "\u001b[0;32m~/anaconda3/envs/tf2_4/lib/python3.9/site-packages/pandas/core/algorithms.py\u001b[0m in \u001b[0;36mtake_nd\u001b[0;34m(arr, indexer, axis, out, fill_value, allow_fill)\u001b[0m\n\u001b[1;32m   1700\u001b[0m \u001b[0;34m\u001b[0m\u001b[0m\n\u001b[1;32m   1701\u001b[0m     \u001b[0marr\u001b[0m \u001b[0;34m=\u001b[0m \u001b[0mextract_array\u001b[0m\u001b[0;34m(\u001b[0m\u001b[0marr\u001b[0m\u001b[0;34m)\u001b[0m\u001b[0;34m\u001b[0m\u001b[0;34m\u001b[0m\u001b[0m\n\u001b[0;32m-> 1702\u001b[0;31m     \u001b[0marr\u001b[0m \u001b[0;34m=\u001b[0m \u001b[0mnp\u001b[0m\u001b[0;34m.\u001b[0m\u001b[0masarray\u001b[0m\u001b[0;34m(\u001b[0m\u001b[0marr\u001b[0m\u001b[0;34m)\u001b[0m\u001b[0;34m\u001b[0m\u001b[0;34m\u001b[0m\u001b[0m\n\u001b[0m\u001b[1;32m   1703\u001b[0m \u001b[0;34m\u001b[0m\u001b[0m\n\u001b[1;32m   1704\u001b[0m     \u001b[0;32mif\u001b[0m \u001b[0mindexer\u001b[0m \u001b[0;32mis\u001b[0m \u001b[0;32mNone\u001b[0m\u001b[0;34m:\u001b[0m\u001b[0;34m\u001b[0m\u001b[0;34m\u001b[0m\u001b[0m\n",
      "\u001b[0;32m~/anaconda3/envs/tf2_4/lib/python3.9/site-packages/numpy/core/_asarray.py\u001b[0m in \u001b[0;36masarray\u001b[0;34m(a, dtype, order, like)\u001b[0m\n\u001b[1;32m    100\u001b[0m         \u001b[0;32mreturn\u001b[0m \u001b[0m_asarray_with_like\u001b[0m\u001b[0;34m(\u001b[0m\u001b[0ma\u001b[0m\u001b[0;34m,\u001b[0m \u001b[0mdtype\u001b[0m\u001b[0;34m=\u001b[0m\u001b[0mdtype\u001b[0m\u001b[0;34m,\u001b[0m \u001b[0morder\u001b[0m\u001b[0;34m=\u001b[0m\u001b[0morder\u001b[0m\u001b[0;34m,\u001b[0m \u001b[0mlike\u001b[0m\u001b[0;34m=\u001b[0m\u001b[0mlike\u001b[0m\u001b[0;34m)\u001b[0m\u001b[0;34m\u001b[0m\u001b[0;34m\u001b[0m\u001b[0m\n\u001b[1;32m    101\u001b[0m \u001b[0;34m\u001b[0m\u001b[0m\n\u001b[0;32m--> 102\u001b[0;31m     \u001b[0;32mreturn\u001b[0m \u001b[0marray\u001b[0m\u001b[0;34m(\u001b[0m\u001b[0ma\u001b[0m\u001b[0;34m,\u001b[0m \u001b[0mdtype\u001b[0m\u001b[0;34m,\u001b[0m \u001b[0mcopy\u001b[0m\u001b[0;34m=\u001b[0m\u001b[0;32mFalse\u001b[0m\u001b[0;34m,\u001b[0m \u001b[0morder\u001b[0m\u001b[0;34m=\u001b[0m\u001b[0morder\u001b[0m\u001b[0;34m)\u001b[0m\u001b[0;34m\u001b[0m\u001b[0;34m\u001b[0m\u001b[0m\n\u001b[0m\u001b[1;32m    103\u001b[0m \u001b[0;34m\u001b[0m\u001b[0m\n\u001b[1;32m    104\u001b[0m \u001b[0;34m\u001b[0m\u001b[0m\n",
      "\u001b[0;31mKeyboardInterrupt\u001b[0m: "
     ]
    }
   ],
   "source": [
    "F, acc = {}, {}\n",
    "\n",
    "for strategy in ['freq','beta']:\n",
    "    acc[strategy] = pd.DataFrame(index=['method1','method2','Tao','Sheng', 'MV'],columns=[2])\n",
    "    F[strategy]   = {}\n",
    "\n",
    "\n",
    "for NL in range(2,40): # number of workers\n",
    "\n",
    "    F_both, accuracy_both = funcs.aim1_3_full_accuracy_comparison(data=data, num_labelers=NL, num_simulations=20, feature_columns=feature_columns)\n",
    "\n",
    "    for strategy in ['freq','beta']:\n",
    "        acc[strategy][NL] = accuracy_both[strategy].T\n",
    "        F[strategy][f'num_labelers_{NL}'] = F_both[strategy]"
   ]
  },
  {
   "cell_type": "code",
   "execution_count": null,
   "metadata": {},
   "outputs": [
    {
     "data": {
      "text/html": [
       "<div>\n",
       "<style scoped>\n",
       "    .dataframe tbody tr th:only-of-type {\n",
       "        vertical-align: middle;\n",
       "    }\n",
       "\n",
       "    .dataframe tbody tr th {\n",
       "        vertical-align: top;\n",
       "    }\n",
       "\n",
       "    .dataframe thead th {\n",
       "        text-align: right;\n",
       "    }\n",
       "</style>\n",
       "<table border=\"1\" class=\"dataframe\">\n",
       "  <thead>\n",
       "    <tr style=\"text-align: right;\">\n",
       "      <th></th>\n",
       "      <th>2</th>\n",
       "      <th>3</th>\n",
       "      <th>4</th>\n",
       "      <th>5</th>\n",
       "      <th>6</th>\n",
       "      <th>7</th>\n",
       "      <th>8</th>\n",
       "      <th>9</th>\n",
       "      <th>10</th>\n",
       "      <th>11</th>\n",
       "      <th>12</th>\n",
       "      <th>13</th>\n",
       "      <th>14</th>\n",
       "      <th>15</th>\n",
       "      <th>16</th>\n",
       "      <th>17</th>\n",
       "      <th>18</th>\n",
       "    </tr>\n",
       "  </thead>\n",
       "  <tbody>\n",
       "    <tr>\n",
       "      <th>method1</th>\n",
       "      <td>0.34</td>\n",
       "      <td>0.33</td>\n",
       "      <td>0.73</td>\n",
       "      <td>0.61</td>\n",
       "      <td>0.69</td>\n",
       "      <td>0.56</td>\n",
       "      <td>0.71</td>\n",
       "      <td>0.63</td>\n",
       "      <td>0.93</td>\n",
       "      <td>0.74</td>\n",
       "      <td>0.89</td>\n",
       "      <td>0.94</td>\n",
       "      <td>0.87</td>\n",
       "      <td>0.94</td>\n",
       "      <td>0.87</td>\n",
       "      <td>0.86</td>\n",
       "      <td>0.91</td>\n",
       "    </tr>\n",
       "    <tr>\n",
       "      <th>method2</th>\n",
       "      <td>0.30</td>\n",
       "      <td>0.33</td>\n",
       "      <td>0.26</td>\n",
       "      <td>0.61</td>\n",
       "      <td>0.53</td>\n",
       "      <td>0.56</td>\n",
       "      <td>0.69</td>\n",
       "      <td>0.63</td>\n",
       "      <td>0.91</td>\n",
       "      <td>0.84</td>\n",
       "      <td>0.89</td>\n",
       "      <td>0.96</td>\n",
       "      <td>0.89</td>\n",
       "      <td>0.97</td>\n",
       "      <td>0.90</td>\n",
       "      <td>0.93</td>\n",
       "      <td>0.93</td>\n",
       "    </tr>\n",
       "    <tr>\n",
       "      <th>Tao</th>\n",
       "      <td>0.34</td>\n",
       "      <td>0.33</td>\n",
       "      <td>0.61</td>\n",
       "      <td>0.61</td>\n",
       "      <td>0.51</td>\n",
       "      <td>0.56</td>\n",
       "      <td>0.56</td>\n",
       "      <td>0.63</td>\n",
       "      <td>0.80</td>\n",
       "      <td>0.74</td>\n",
       "      <td>0.84</td>\n",
       "      <td>0.94</td>\n",
       "      <td>0.87</td>\n",
       "      <td>0.91</td>\n",
       "      <td>0.83</td>\n",
       "      <td>0.86</td>\n",
       "      <td>0.89</td>\n",
       "    </tr>\n",
       "    <tr>\n",
       "      <th>Sheng</th>\n",
       "      <td>0.21</td>\n",
       "      <td>0.33</td>\n",
       "      <td>0.30</td>\n",
       "      <td>0.61</td>\n",
       "      <td>0.40</td>\n",
       "      <td>0.56</td>\n",
       "      <td>0.50</td>\n",
       "      <td>0.63</td>\n",
       "      <td>0.76</td>\n",
       "      <td>0.74</td>\n",
       "      <td>0.73</td>\n",
       "      <td>0.94</td>\n",
       "      <td>0.79</td>\n",
       "      <td>0.91</td>\n",
       "      <td>0.74</td>\n",
       "      <td>0.86</td>\n",
       "      <td>0.91</td>\n",
       "    </tr>\n",
       "    <tr>\n",
       "      <th>MV</th>\n",
       "      <td>0.43</td>\n",
       "      <td>0.69</td>\n",
       "      <td>0.77</td>\n",
       "      <td>0.77</td>\n",
       "      <td>0.77</td>\n",
       "      <td>0.77</td>\n",
       "      <td>0.77</td>\n",
       "      <td>0.77</td>\n",
       "      <td>0.77</td>\n",
       "      <td>0.77</td>\n",
       "      <td>0.77</td>\n",
       "      <td>0.77</td>\n",
       "      <td>0.77</td>\n",
       "      <td>0.77</td>\n",
       "      <td>0.79</td>\n",
       "      <td>0.77</td>\n",
       "      <td>0.77</td>\n",
       "    </tr>\n",
       "  </tbody>\n",
       "</table>\n",
       "</div>"
      ],
      "text/plain": [
       "           2     3     4     5     6     7     8     9     10    11    12  \\\n",
       "method1  0.34  0.33  0.73  0.61  0.69  0.56  0.71  0.63  0.93  0.74  0.89   \n",
       "method2  0.30  0.33  0.26  0.61  0.53  0.56  0.69  0.63  0.91  0.84  0.89   \n",
       "Tao      0.34  0.33  0.61  0.61  0.51  0.56  0.56  0.63  0.80  0.74  0.84   \n",
       "Sheng    0.21  0.33  0.30  0.61  0.40  0.56  0.50  0.63  0.76  0.74  0.73   \n",
       "MV       0.43  0.69  0.77  0.77  0.77  0.77  0.77  0.77  0.77  0.77  0.77   \n",
       "\n",
       "           13    14    15    16    17    18  \n",
       "method1  0.94  0.87  0.94  0.87  0.86  0.91  \n",
       "method2  0.96  0.89  0.97  0.90  0.93  0.93  \n",
       "Tao      0.94  0.87  0.91  0.83  0.86  0.89  \n",
       "Sheng    0.94  0.79  0.91  0.74  0.86  0.91  \n",
       "MV       0.77  0.77  0.77  0.79  0.77  0.77  "
      ]
     },
     "execution_count": 7,
     "metadata": {},
     "output_type": "execute_result"
    }
   ],
   "source": [
    "strategy = 'freq'\n",
    "acc[strategy].round(decimals=2)"
   ]
  },
  {
   "cell_type": "markdown",
   "metadata": {},
   "source": [
    "## <span style=\"color:Green; opacity:0.8; font-family:PT Sans Narrow; font-size:1.1em\"> 2.2 Renaming the files to final names </span>"
   ]
  },
  {
   "cell_type": "code",
   "execution_count": null,
   "metadata": {},
   "outputs": [],
   "source": [
    "acc2 = acc.copy()\n",
    "acc2['freq'] = acc2['freq'].rename({'method2':'uwMV-freq (proposed)' , 'Tao':'wMV-freq (Tao et al.)', 'Sheng':'MV-freq (Sheng et al.)'})\n",
    "acc2['beta'] = acc2['beta'].rename({'method2':'uwMV-beta (proposed)' , 'Tao':'wMV-beta (Tao et al.)', 'Sheng':'MV-beta (Sheng et al.)'})"
   ]
  },
  {
   "cell_type": "markdown",
   "metadata": {},
   "source": [
    "## <span style=\"color:Green; opacity:0.8 ; font-family:PT Sans Narrow; font-size:1.1em\"> 2.3 plots </span>"
   ]
  },
  {
   "cell_type": "markdown",
   "metadata": {},
   "source": [
    "### <span style=\"color:Orange; opacity:0.8; font-family:PT Sans Narrow; font-size:1.3em\"> 2.3.1 mode: freq </span>"
   ]
  },
  {
   "cell_type": "code",
   "execution_count": null,
   "metadata": {},
   "outputs": [
    {
     "data": {
      "text/plain": [
       "Text(0.5, 1.0, 'Dataset: ionosphere   -   technique: freq')"
      ]
     },
     "execution_count": 9,
     "metadata": {},
     "output_type": "execute_result"
    },
    {
     "data": {
      "image/png": "[encoded data removed]",
      "text/plain": [
       "<Figure size 432x288 with 1 Axes>"
      ]
     },
     "metadata": {
      "needs_background": "light"
     },
     "output_type": "display_data"
    }
   ],
   "source": [
    "strategy = 'freq'\n",
    "acc2[strategy].drop(['method1']).T.plot()\n",
    "plt.xlabel('number of workers')\n",
    "plt.ylabel('accuracy')\n",
    "plt.title('Dataset: ' + dataset.value + '   -   technique: ' + strategy)"
   ]
  },
  {
   "cell_type": "markdown",
   "metadata": {},
   "source": [
    "### <span style=\"color:Orange; opacity:0.8;  font-family:PT Sans Narrow; font-size:1.3em\"> 2.3.1 mode: beta </span>"
   ]
  },
  {
   "cell_type": "code",
   "execution_count": null,
   "metadata": {},
   "outputs": [
    {
     "data": {
      "text/plain": [
       "Text(0.5, 1.0, 'Dataset: ionosphere   -   technique: beta')"
      ]
     },
     "execution_count": 10,
     "metadata": {},
     "output_type": "execute_result"
    },
    {
     "data": {
      "image/png": "[encoded data removed]",
      "text/plain": [
       "<Figure size 432x288 with 1 Axes>"
      ]
     },
     "metadata": {
      "needs_background": "light"
     },
     "output_type": "display_data"
    }
   ],
   "source": [
    "strategy = 'beta'\n",
    "acc2[strategy].drop(['method1']).T.plot()\n",
    "plt.xlabel('number of workers')\n",
    "plt.ylabel('accuracy')\n",
    "plt.title('Dataset: ' + dataset.value + '   -   technique: ' + strategy)"
   ]
  },
  {
   "cell_type": "markdown",
   "metadata": {},
   "source": [
    "### <span style=\"color:Orange; opacity:0.8;  font-family:PT Sans Narrow; font-size:1.3em\"> 2.3.3 freq vs beta for the proposed technique </span>"
   ]
  },
  {
   "cell_type": "code",
   "execution_count": null,
   "metadata": {},
   "outputs": [
    {
     "data": {
      "text/plain": [
       "Text(0.5, 1.0, 'Dataset: ionosphere')"
      ]
     },
     "execution_count": 11,
     "metadata": {},
     "output_type": "execute_result"
    },
    {
     "data": {
      "image/png": "[encoded data removed]",
      "text/plain": [
       "<Figure size 432x288 with 1 Axes>"
      ]
     },
     "metadata": {
      "needs_background": "light"
     },
     "output_type": "display_data"
    }
   ],
   "source": [
    "acc_freq_vs_beta = pd.DataFrame()\n",
    "acc_freq_vs_beta['uwMV-freq'] = acc['freq'].T['method2']\n",
    "acc_freq_vs_beta['uwMV-beta'] = acc['beta'].T['method2']\n",
    "\n",
    "acc_freq_vs_beta.plot()\n",
    "plt.xlabel('number of workers')\n",
    "plt.ylabel('accuracy')\n",
    "plt.title('Dataset: ' + dataset.value)"
   ]
  },
  {
   "cell_type": "markdown",
   "metadata": {},
   "source": [
    "# <span style=\"color:red; opacity:0.8;  font-family:PT Sans Narrow; font-size:1.3em\"> ** BELOW CAN BE IGNORED ** </span>\n",
    "\n",
    "# <span style=\"color:white; opacity:0.8;  font-family:PT Sans Narrow; font-size:1.3em\"> 3. Repeating prior experiment for only 20 workers => to measure confidence score </span>"
   ]
  },
  {
   "cell_type": "markdown",
   "metadata": {},
   "source": [
    "## <span style=\"color:Green; opacity:0.8;  font-family:PT Sans Narrow; font-size:1.1em\"> 3.1 Measuring prob/uncertainties </span>"
   ]
  },
  {
   "cell_type": "code",
   "execution_count": null,
   "metadata": {},
   "outputs": [
    {
     "name": "stderr",
     "output_type": "stream",
     "text": [
      "workers: 100%|██████████| 10/10 [00:05<00:00,  1.83it/s]\n"
     ]
    },
    {
     "data": {
      "text/html": [
       "<div>\n",
       "<style scoped>\n",
       "    .dataframe tbody tr th:only-of-type {\n",
       "        vertical-align: middle;\n",
       "    }\n",
       "\n",
       "    .dataframe tbody tr th {\n",
       "        vertical-align: top;\n",
       "    }\n",
       "\n",
       "    .dataframe thead th {\n",
       "        text-align: right;\n",
       "    }\n",
       "</style>\n",
       "<table border=\"1\" class=\"dataframe\">\n",
       "  <thead>\n",
       "    <tr style=\"text-align: right;\">\n",
       "      <th></th>\n",
       "      <th>labeler_0</th>\n",
       "      <th>labeler_1</th>\n",
       "      <th>labeler_2</th>\n",
       "      <th>labeler_3</th>\n",
       "      <th>labeler_4</th>\n",
       "      <th>labeler_5</th>\n",
       "      <th>labeler_6</th>\n",
       "      <th>labeler_7</th>\n",
       "      <th>labeler_8</th>\n",
       "      <th>labeler_9</th>\n",
       "    </tr>\n",
       "  </thead>\n",
       "  <tbody>\n",
       "    <tr>\n",
       "      <th>18</th>\n",
       "      <td>0.498</td>\n",
       "      <td>0.402</td>\n",
       "      <td>0.498</td>\n",
       "      <td>0.000</td>\n",
       "      <td>0.507</td>\n",
       "      <td>0.463</td>\n",
       "      <td>0.463</td>\n",
       "      <td>0.483</td>\n",
       "      <td>0.000</td>\n",
       "      <td>0.301</td>\n",
       "    </tr>\n",
       "    <tr>\n",
       "      <th>21</th>\n",
       "      <td>0.463</td>\n",
       "      <td>0.301</td>\n",
       "      <td>0.512</td>\n",
       "      <td>0.402</td>\n",
       "      <td>0.498</td>\n",
       "      <td>0.359</td>\n",
       "      <td>0.436</td>\n",
       "      <td>0.483</td>\n",
       "      <td>0.463</td>\n",
       "      <td>0.359</td>\n",
       "    </tr>\n",
       "    <tr>\n",
       "      <th>23</th>\n",
       "      <td>0.512</td>\n",
       "      <td>0.218</td>\n",
       "      <td>0.402</td>\n",
       "      <td>0.483</td>\n",
       "      <td>0.359</td>\n",
       "      <td>0.463</td>\n",
       "      <td>0.402</td>\n",
       "      <td>0.301</td>\n",
       "      <td>0.436</td>\n",
       "      <td>0.301</td>\n",
       "    </tr>\n",
       "    <tr>\n",
       "      <th>labelers_strength</th>\n",
       "      <td>0.408</td>\n",
       "      <td>0.312</td>\n",
       "      <td>0.578</td>\n",
       "      <td>0.735</td>\n",
       "      <td>0.552</td>\n",
       "      <td>0.591</td>\n",
       "      <td>0.308</td>\n",
       "      <td>0.592</td>\n",
       "      <td>0.865</td>\n",
       "      <td>0.810</td>\n",
       "    </tr>\n",
       "    <tr>\n",
       "      <th>accuracy-test</th>\n",
       "      <td>0.371</td>\n",
       "      <td>0.186</td>\n",
       "      <td>0.686</td>\n",
       "      <td>0.857</td>\n",
       "      <td>0.543</td>\n",
       "      <td>0.643</td>\n",
       "      <td>0.114</td>\n",
       "      <td>0.571</td>\n",
       "      <td>0.929</td>\n",
       "      <td>0.914</td>\n",
       "    </tr>\n",
       "  </tbody>\n",
       "</table>\n",
       "</div>"
      ],
      "text/plain": [
       "                   labeler_0  labeler_1  labeler_2  labeler_3  labeler_4  \\\n",
       "18                     0.498      0.402      0.498      0.000      0.507   \n",
       "21                     0.463      0.301      0.512      0.402      0.498   \n",
       "23                     0.512      0.218      0.402      0.483      0.359   \n",
       "labelers_strength      0.408      0.312      0.578      0.735      0.552   \n",
       "accuracy-test          0.371      0.186      0.686      0.857      0.543   \n",
       "\n",
       "                   labeler_5  labeler_6  labeler_7  labeler_8  labeler_9  \n",
       "18                     0.463      0.463      0.483      0.000      0.301  \n",
       "21                     0.359      0.436      0.483      0.463      0.359  \n",
       "23                     0.463      0.402      0.301      0.436      0.301  \n",
       "labelers_strength      0.591      0.308      0.592      0.865      0.810  \n",
       "accuracy-test          0.643      0.114      0.571      0.929      0.914  "
      ]
     },
     "execution_count": 12,
     "metadata": {},
     "output_type": "execute_result"
    }
   ],
   "source": [
    "ARLS = {'num_labelers': 10, \n",
    "        'low_dis':      0.3, \n",
    "        'high_dis':     0.9}\n",
    "    \n",
    "predicted_labels, uncertainty, true_labels, labelers_strength = funcs.apply_technique_aim_1_3( data = data,\n",
    "                                                                                        ARLS = ARLS,\n",
    "                                                                                        num_simulations = 20, \n",
    "                                                                                        feature_columns = feature_columns)\n",
    "\n",
    "labels_all_workers         = predicted_labels['test']['mv'] \n",
    "uncertainty_all_workers    = uncertainty['test']\n",
    "truth                      = true_labels['test'].truth\n",
    "\n",
    "uncertainty['test'].head(3).append(labelers_strength.T).round(decimals=3)                                                                                        "
   ]
  },
  {
   "cell_type": "markdown",
   "metadata": {},
   "source": [
    "## <span style=\"color:Green; opacity:0.8 ; font-family:PT Sans Narrow; font-size:1.1em\"> 3.2 Measuring weights for each labeler </span>\n",
    "\n",
    "***\n",
    "### <span style=\"color:Orange; opacity:0.8 ;  font-family:PT Sans narrow; font-size:1.1em\"> 3.2.1 First Method: </span>\n",
    "\n",
    "$ T_{x,a,j} = 1 - u_{j} $\n",
    "\n",
    "***\n",
    "### <span style=\"color:Orange; opacity:0.8 ;  font-family:PT Sans narrow; font-size:1.1em\"> 3.2.2 Second Method: </span>\n",
    "\n",
    "$ T_{x,a,j} = \\left\\{\n",
    "    \\begin{array} \\\\\n",
    "        1 - u_{j} & y_{a,j} = y'_{j}   \\\\\n",
    "        0 & y_{a,j} \\neq y'_{j}\n",
    "    \\end{array}\n",
    "\\right. $\n",
    "***\n",
    "\n",
    "### <span style=\"color:Orange; opacity:0.8 ;  font-family:PT Sans narrow; font-size:1.1em\"> 3.2.3 Measuring average weight </span>\n",
    "\n",
    "$ \\hat{w}_{a,j} = \\frac {1}{N} \\sum_{x} T_{x,a,j}$\n",
    "\n",
    "$ w_{a,j} = \\frac {\\hat{w}_{a,j}} {\\sum_{a=1}^{L} \\hat{w}_{a,j}} $\n",
    "\n",
    "***\n",
    "## <span style=\"color:Green; opacity:0.8 ;  font-family:PT Sans Narrow; font-size:1.1em\"> 3.3 Weighted majority voting </span>\n",
    "\n",
    "\n",
    "### <span style=\"color:Orange; opacity:0.8 ;  font-family:PT Sans narrow; font-size:1.1em\"> 3.3.1 Applying the weights to predicted probabilities </span>\n",
    "\n",
    "$ \\hat{p}^{prob}_{j} = \\sum_{a=1}^{L} p_{a,j} * w_{a,j} $\n",
    "\n",
    "### <span style=\"color:Orange; opacity:0.8 ;  font-family:PT Sans narrow; font-size:1.1em\"> 3.3.2 Applying the weights to predicted labels </span>\n",
    "\n",
    "$ \\hat{p}^{binary}_{j} = \\sum_{a=1}^{L} y_{a,j} * w_{a,j}$ where $y_{a,j} = (p_{a,j} > 0.5) $\n",
    "***"
   ]
  },
  {
   "cell_type": "code",
   "execution_count": null,
   "metadata": {},
   "outputs": [],
   "source": [
    "weights, prob_weighted = funcs.aim1_3_measuring_weights( labels_all_workers=labels_all_workers, \n",
    "                                                    uncertainty_all_workers=uncertainty_all_workers)"
   ]
  },
  {
   "cell_type": "markdown",
   "metadata": {},
   "source": [
    "### <span style=\"color:Orange; font-family:PT Sans narrow; font-size:1.3em\"> 3.3.3 Measuring the weighted MV using only the measured weights (without confidence scores) </span>"
   ]
  },
  {
   "cell_type": "code",
   "execution_count": null,
   "metadata": {},
   "outputs": [
    {
     "data": {
      "text/html": [
       "<div>\n",
       "<style scoped>\n",
       "    .dataframe tbody tr th:only-of-type {\n",
       "        vertical-align: middle;\n",
       "    }\n",
       "\n",
       "    .dataframe tbody tr th {\n",
       "        vertical-align: top;\n",
       "    }\n",
       "\n",
       "    .dataframe thead th {\n",
       "        text-align: right;\n",
       "    }\n",
       "</style>\n",
       "<table border=\"1\" class=\"dataframe\">\n",
       "  <thead>\n",
       "    <tr style=\"text-align: right;\">\n",
       "      <th></th>\n",
       "      <th>method1</th>\n",
       "      <th>method2</th>\n",
       "    </tr>\n",
       "    <tr>\n",
       "      <th>num_labelers</th>\n",
       "      <th></th>\n",
       "      <th></th>\n",
       "    </tr>\n",
       "  </thead>\n",
       "  <tbody>\n",
       "    <tr>\n",
       "      <th>10.0</th>\n",
       "      <td>0.8</td>\n",
       "      <td>0.8</td>\n",
       "    </tr>\n",
       "  </tbody>\n",
       "</table>\n",
       "</div>"
      ],
      "text/plain": [
       "              method1  method2\n",
       "num_labelers                  \n",
       "10.0              0.8      0.8"
      ]
     },
     "execution_count": 14,
     "metadata": {},
     "output_type": "execute_result"
    }
   ],
   "source": [
    "# measuring the new accuracies\n",
    "acc2 = ( (prob_weighted > 0.5).T == truth ).mean(axis=1)\n",
    "acc2['num_labelers'] = ARLS['num_labelers']\n",
    "\n",
    "accuracy2 = pd.DataFrame( {'accuracy': acc2}).T.set_index('num_labelers')\n",
    "\n",
    "accuracy2"
   ]
  },
  {
   "cell_type": "code",
   "execution_count": null,
   "metadata": {},
   "outputs": [
    {
     "ename": "TypeError",
     "evalue": "aim1_3_measure_confidense_score() got an unexpected keyword argument 'conf_score_strategy'",
     "output_type": "error",
     "traceback": [
      "\u001b[0;31m---------------------------------------------------------------------------\u001b[0m",
      "\u001b[0;31mTypeError\u001b[0m                                 Traceback (most recent call last)",
      "\u001b[0;32m/tmp/ipykernel_202148/3854614522.py\u001b[0m in \u001b[0;36m<module>\u001b[0;34m\u001b[0m\n\u001b[0;32m----> 1\u001b[0;31m \u001b[0mF\u001b[0m\u001b[0;34m,\u001b[0m \u001b[0macc\u001b[0m \u001b[0;34m=\u001b[0m \u001b[0mfuncs\u001b[0m\u001b[0;34m.\u001b[0m\u001b[0maim1_3_measure_confidense_score\u001b[0m\u001b[0;34m(\u001b[0m\u001b[0mdelta\u001b[0m\u001b[0;34m=\u001b[0m\u001b[0mlabels_all_workers\u001b[0m\u001b[0;34m,\u001b[0m \u001b[0mweights\u001b[0m\u001b[0;34m=\u001b[0m\u001b[0mweights\u001b[0m\u001b[0;34m,\u001b[0m \u001b[0mconf_score_strategy\u001b[0m\u001b[0;34m=\u001b[0m\u001b[0;36m1\u001b[0m\u001b[0;34m,\u001b[0m \u001b[0mnum_labelers\u001b[0m\u001b[0;34m=\u001b[0m\u001b[0mARLS\u001b[0m\u001b[0;34m[\u001b[0m\u001b[0;34m'num_labelers'\u001b[0m\u001b[0;34m]\u001b[0m\u001b[0;34m,\u001b[0m \u001b[0mtruth\u001b[0m\u001b[0;34m=\u001b[0m\u001b[0mtrue_labels\u001b[0m\u001b[0;34m[\u001b[0m\u001b[0;34m'test'\u001b[0m\u001b[0;34m]\u001b[0m\u001b[0;34m.\u001b[0m\u001b[0mtruth\u001b[0m\u001b[0;34m)\u001b[0m\u001b[0;34m\u001b[0m\u001b[0;34m\u001b[0m\u001b[0m\n\u001b[0m\u001b[1;32m      2\u001b[0m \u001b[0;34m\u001b[0m\u001b[0m\n\u001b[1;32m      3\u001b[0m \u001b[0macc\u001b[0m\u001b[0;34m\u001b[0m\u001b[0;34m\u001b[0m\u001b[0m\n",
      "\u001b[0;31mTypeError\u001b[0m: aim1_3_measure_confidense_score() got an unexpected keyword argument 'conf_score_strategy'"
     ]
    }
   ],
   "source": [
    "F, acc = funcs.aim1_3_measure_confidense_score(delta=labels_all_workers, weights=weights, conf_score_strategy=1, num_labelers=ARLS['num_labelers'], truth=true_labels['test'].truth)\n",
    "\n",
    "acc"
   ]
  },
  {
   "cell_type": "code",
   "execution_count": null,
   "metadata": {},
   "outputs": [
    {
     "data": {
      "text/html": [
       "<div>\n",
       "<style scoped>\n",
       "    .dataframe tbody tr th:only-of-type {\n",
       "        vertical-align: middle;\n",
       "    }\n",
       "\n",
       "    .dataframe tbody tr th {\n",
       "        vertical-align: top;\n",
       "    }\n",
       "\n",
       "    .dataframe thead th {\n",
       "        text-align: right;\n",
       "    }\n",
       "</style>\n",
       "<table border=\"1\" class=\"dataframe\">\n",
       "  <thead>\n",
       "    <tr style=\"text-align: right;\">\n",
       "      <th></th>\n",
       "      <th>method1</th>\n",
       "      <th>method2</th>\n",
       "    </tr>\n",
       "  </thead>\n",
       "  <tbody>\n",
       "    <tr>\n",
       "      <th>9</th>\n",
       "      <td>0.619439</td>\n",
       "      <td>0.799819</td>\n",
       "    </tr>\n",
       "    <tr>\n",
       "      <th>20</th>\n",
       "      <td>0.619439</td>\n",
       "      <td>0.799819</td>\n",
       "    </tr>\n",
       "    <tr>\n",
       "      <th>21</th>\n",
       "      <td>0.615834</td>\n",
       "      <td>0.779053</td>\n",
       "    </tr>\n",
       "    <tr>\n",
       "      <th>23</th>\n",
       "      <td>0.701288</td>\n",
       "      <td>0.884796</td>\n",
       "    </tr>\n",
       "    <tr>\n",
       "      <th>26</th>\n",
       "      <td>0.701288</td>\n",
       "      <td>0.884796</td>\n",
       "    </tr>\n",
       "    <tr>\n",
       "      <th>...</th>\n",
       "      <td>...</td>\n",
       "      <td>...</td>\n",
       "    </tr>\n",
       "    <tr>\n",
       "      <th>3169</th>\n",
       "      <td>0.514359</td>\n",
       "      <td>0.600340</td>\n",
       "    </tr>\n",
       "    <tr>\n",
       "      <th>3187</th>\n",
       "      <td>0.701288</td>\n",
       "      <td>0.884796</td>\n",
       "    </tr>\n",
       "    <tr>\n",
       "      <th>3189</th>\n",
       "      <td>0.807642</td>\n",
       "      <td>0.919754</td>\n",
       "    </tr>\n",
       "    <tr>\n",
       "      <th>3193</th>\n",
       "      <td>0.560326</td>\n",
       "      <td>0.561939</td>\n",
       "    </tr>\n",
       "    <tr>\n",
       "      <th>3194</th>\n",
       "      <td>0.528723</td>\n",
       "      <td>0.535332</td>\n",
       "    </tr>\n",
       "  </tbody>\n",
       "</table>\n",
       "<p>639 rows × 2 columns</p>\n",
       "</div>"
      ],
      "text/plain": [
       "       method1   method2\n",
       "9     0.619439  0.799819\n",
       "20    0.619439  0.799819\n",
       "21    0.615834  0.779053\n",
       "23    0.701288  0.884796\n",
       "26    0.701288  0.884796\n",
       "...        ...       ...\n",
       "3169  0.514359  0.600340\n",
       "3187  0.701288  0.884796\n",
       "3189  0.807642  0.919754\n",
       "3193  0.560326  0.561939\n",
       "3194  0.528723  0.535332\n",
       "\n",
       "[639 rows x 2 columns]"
      ]
     },
     "execution_count": 80,
     "metadata": {},
     "output_type": "execute_result"
    }
   ],
   "source": [
    "# acc2 = ((F1.method1>0.5) == (truth > 0.5) ).mean(axis=0)\n",
    "# acc2\n",
    "# truth\n",
    "# F1.method1>0.5\n",
    "F1"
   ]
  },
  {
   "cell_type": "markdown",
   "metadata": {},
   "source": [
    "# <span style=\"color:white; opacity:0.8; font-family:PT Sans Narrow; font-size:1.3em\"> 4. Benchmark </span>\n",
    "\n",
    "## <span style=\"color:Green; opacity:0.8; font-family:PT Sans Narrow; font-size:1.1em\"> 4.1 Overall quality of different workers </span>\n",
    "\n",
    "\n",
    "Estimating the overall qualities of different workers is not a new research topic in the crowdsourcing learning community. To the best of the authors’ knowledge, there exist many state-of-the-art algorithms, such as Dawid–Skene [1], ZenCrowd , KOS [9], and DEW [15, 23]. However, none of them exploit feature vectors of instances, which makes it impossible to take full advantage of the statistical characteristics of the available data when evaluating the label qualities. According to the observation by [30], in traditional supervised learning, there exists a schema to exhibit the relationship between data features and the ground-truth labels. For example, suppose there exists a high-quality worker; the data schema will be well-inherited in their labels, because the difference between their labels and ground-truth labels is small. Meanwhile, suppose there exists a low-quality worker, the data schema may be broken because their labels will be very different from the ground-truth labels. Therefore, we can estimate the overall quality of a worker by evaluating how well the schema is inherited in their labels. Specifically, we can first extract all training instances’ feature vectors and the corresponding crowd labels provided by the jth worker to form a new single-label data set. Then, we use tenfold cross-validation to evaluate the classification accuracy of a classifier. In theory, this classifier can be any classifier. Finally, we define the overall quality of the jth worker as the classification accuracy of the built classifier. The detailed formula can be expressed as\n",
    "\n",
    "\n",
    "$ \\tau_{a} = \\frac {\\sum_{i=1}^{n} \\delta \\Big( f_{a}(x_{i}) , I_{i,a}  \\Big)}{n} $\n",
    "\n",
    "where n is the size of the extracted data set and $f_{j}(x_{i})$ is the class label of the feature vector $x_{i}$ predicted by the built classifier.\n",
    "\n",
    "***\n",
    "\n",
    "## <span style=\"color:Green; opacity:0.8; font-family:PT Sans Narrow; font-size:1.1em\"> 4.2 Specific quality of the $j_{th}$ worker for the $i_{th}$ instance ($s_{ij}$) </span>\n",
    "\n",
    "$ s_{x,a} = \\sum^{a'=L}_{ (a'=1) \\land (a' \\neq a) } \\delta \\Big( l_{x,a},l_{x,a'} \\Big) $\n",
    "\n",
    "***\n",
    "$ \\gamma_{x,a} =\\tau_{x,a}(1 + s_{x,a}^{2}) $\n",
    "\n",
    "***\n",
    "$ w'_{x,a} = \\frac {1} {1 + e^{-\\gamma_{x,a}} } $\n",
    "\n",
    "***\n",
    "$ Z = \\frac {1}{L} \\sum_{a=1}^{L}w'_{x,a}  $\n",
    "\n",
    "‍‍‍``` Z is a normalization constant, which ensures that the sum of all crowd label weights for the ith instance is still equal to m ```\n",
    "\n",
    "***\n",
    "$ w_{x,j} = \\frac {1}{Z} w'_{x,j}  $"
   ]
  },
  {
   "cell_type": "code",
   "execution_count": null,
   "metadata": {},
   "outputs": [
    {
     "data": {
      "text/html": [
       "<div>\n",
       "<style scoped>\n",
       "    .dataframe tbody tr th:only-of-type {\n",
       "        vertical-align: middle;\n",
       "    }\n",
       "\n",
       "    .dataframe tbody tr th {\n",
       "        vertical-align: top;\n",
       "    }\n",
       "\n",
       "    .dataframe thead th {\n",
       "        text-align: right;\n",
       "    }\n",
       "</style>\n",
       "<table border=\"1\" class=\"dataframe\">\n",
       "  <thead>\n",
       "    <tr style=\"text-align: right;\">\n",
       "      <th></th>\n",
       "      <th>method1</th>\n",
       "      <th>method2</th>\n",
       "      <th>WMV_Tao</th>\n",
       "      <th>MV</th>\n",
       "    </tr>\n",
       "    <tr>\n",
       "      <th>num_labelers</th>\n",
       "      <th></th>\n",
       "      <th></th>\n",
       "      <th></th>\n",
       "      <th></th>\n",
       "    </tr>\n",
       "  </thead>\n",
       "  <tbody>\n",
       "    <tr>\n",
       "      <th>10.0</th>\n",
       "      <td>0.910798</td>\n",
       "      <td>0.956182</td>\n",
       "      <td>0.849765</td>\n",
       "      <td>0.798122</td>\n",
       "    </tr>\n",
       "  </tbody>\n",
       "</table>\n",
       "</div>"
      ],
      "text/plain": [
       "               method1   method2   WMV_Tao        MV\n",
       "num_labelers                                        \n",
       "10.0          0.910798  0.956182  0.849765  0.798122"
      ]
     },
     "execution_count": 25,
     "metadata": {},
     "output_type": "execute_result"
    }
   ],
   "source": [
    "labels = funcs.aim1_3_measuring_benchmark_accuracy(delta=predicted_labels['test']['simulation_0'] , true_labels=true_labels['test'].drop(columns=['truth']))\n",
    "\n",
    "# measuring accuracy\n",
    "accuracy2['WMV_Tao'] = ( labels['WMV_Tao'] == true_labels['test'].truth ).mean(axis=0)\n",
    "accuracy2['MV']      = ( labels['MV']      == true_labels['test'].truth ).mean(axis=0)\n",
    "\n",
    "accuracy2"
   ]
  },
  {
   "cell_type": "markdown",
   "metadata": {},
   "source": [
    "# <span style=\"color:white; opacity:0.8; font-family:PT Sans Narrow; font-size:1.3em\"> 5. Confidense score: _Weighted-soft-MV_ </span>\n",
    "\n",
    "## <span style=\"color:Green; opacity:0.8; font-family:PT Sans Narrow; font-size:1.1em\"> 5.1 Measuring the certainty score of majority class $ P_{x,j} $ </span>\n",
    "\n",
    "\n",
    "In actual formula this is divided by weights.sum(axis=1). But because weights sum to 1, its values would be 1.\n",
    "\n",
    "Also pandas automatically transfers the binary values in delta\\[disease\\] to float before doing the multiplication.\n",
    "\n",
    "where $\\delta(y_{a,j},+)$ is $1$ if $y_{a,j}$ is positive (TRUE) otherwise $0$. $\\delta(y_{a,j},-)$ is $1$ if $y_{a,j}$ is negative (FALSE) otherwise $0$\n",
    "\n",
    "$ P_{x,j} = \\frac { \\sum_{a=1}^{L} {ω_{a,j} δ(y_{a,j},+)} } { \\sum_{a=1}^{L} {ω_{a,j} δ(y_{a,j},+)}  +  \\sum_{a=1}^{L} {ω_{a,j} δ(y_{a,j},-)} }$\n",
    "\n",
    "***\n",
    "## <span style=\"color:Green; opacity:0.8; font-family:PT Sans Narrow; font-size:1.1em\"> 5.2 Certainty of majority class for both positive & negative labels </span>\n",
    "\n",
    "$F_{x,j} = max \\Big(P_{x,j} , 1-P_{x,j} \\Big)$"
   ]
  },
  {
   "cell_type": "code",
   "execution_count": null,
   "metadata": {},
   "outputs": [
    {
     "data": {
      "text/html": [
       "<div>\n",
       "<style scoped>\n",
       "    .dataframe tbody tr th:only-of-type {\n",
       "        vertical-align: middle;\n",
       "    }\n",
       "\n",
       "    .dataframe tbody tr th {\n",
       "        vertical-align: top;\n",
       "    }\n",
       "\n",
       "    .dataframe thead th {\n",
       "        text-align: right;\n",
       "    }\n",
       "</style>\n",
       "<table border=\"1\" class=\"dataframe\">\n",
       "  <thead>\n",
       "    <tr style=\"text-align: right;\">\n",
       "      <th></th>\n",
       "      <th>method1</th>\n",
       "      <th>method2</th>\n",
       "    </tr>\n",
       "  </thead>\n",
       "  <tbody>\n",
       "    <tr>\n",
       "      <th>9</th>\n",
       "      <td>0.619439</td>\n",
       "      <td>0.799819</td>\n",
       "    </tr>\n",
       "    <tr>\n",
       "      <th>20</th>\n",
       "      <td>0.619439</td>\n",
       "      <td>0.799819</td>\n",
       "    </tr>\n",
       "    <tr>\n",
       "      <th>21</th>\n",
       "      <td>0.615834</td>\n",
       "      <td>0.779053</td>\n",
       "    </tr>\n",
       "    <tr>\n",
       "      <th>23</th>\n",
       "      <td>0.701288</td>\n",
       "      <td>0.884796</td>\n",
       "    </tr>\n",
       "    <tr>\n",
       "      <th>26</th>\n",
       "      <td>0.701288</td>\n",
       "      <td>0.884796</td>\n",
       "    </tr>\n",
       "    <tr>\n",
       "      <th>...</th>\n",
       "      <td>...</td>\n",
       "      <td>...</td>\n",
       "    </tr>\n",
       "    <tr>\n",
       "      <th>3169</th>\n",
       "      <td>0.514359</td>\n",
       "      <td>0.600340</td>\n",
       "    </tr>\n",
       "    <tr>\n",
       "      <th>3187</th>\n",
       "      <td>0.701288</td>\n",
       "      <td>0.884796</td>\n",
       "    </tr>\n",
       "    <tr>\n",
       "      <th>3189</th>\n",
       "      <td>0.807642</td>\n",
       "      <td>0.919754</td>\n",
       "    </tr>\n",
       "    <tr>\n",
       "      <th>3193</th>\n",
       "      <td>0.560326</td>\n",
       "      <td>0.561939</td>\n",
       "    </tr>\n",
       "    <tr>\n",
       "      <th>3194</th>\n",
       "      <td>0.528723</td>\n",
       "      <td>0.535332</td>\n",
       "    </tr>\n",
       "  </tbody>\n",
       "</table>\n",
       "<p>639 rows × 2 columns</p>\n",
       "</div>"
      ],
      "text/plain": [
       "       method1   method2\n",
       "9     0.619439  0.799819\n",
       "20    0.619439  0.799819\n",
       "21    0.615834  0.779053\n",
       "23    0.701288  0.884796\n",
       "26    0.701288  0.884796\n",
       "...        ...       ...\n",
       "3169  0.514359  0.600340\n",
       "3187  0.701288  0.884796\n",
       "3189  0.807642  0.919754\n",
       "3193  0.560326  0.561939\n",
       "3194  0.528723  0.535332\n",
       "\n",
       "[639 rows x 2 columns]"
      ]
     },
     "execution_count": 34,
     "metadata": {},
     "output_type": "execute_result"
    }
   ],
   "source": [
    "F1 = funcs.aim1_3_measure_confidense_score(delta=labels_all_workers, weights=weights, conf_score_strategy=1, num_labelers=ARLS['num_labelers'], truth=true_labels['test'].truth)\n",
    "F1"
   ]
  },
  {
   "cell_type": "markdown",
   "metadata": {},
   "source": [
    "***\n",
    "# <span style=\"color:white; font-family:PT Sans Narrow; font-size:1.3em\"> 6. Confidense score: _Beta-soft-MV_ </span>\n",
    "\n",
    "> Note: _This is measured only for METHOD1 since it has a higher accuracy_\n",
    "\n",
    "## <span style=\"color:Green; font-family:PT Sans Narrow; font-size:1.1em\"> 6.1 Measuring the certainty score of majority class  $f_{x,j}^{-+}$ </span>\n",
    "\n",
    "\n",
    "\n",
    "$f^{+}_{x,j}≔1+\\sum_{a=1}^{L}ω_{a,j}  \\delta \\big( y_{a,j},+ \\big) $\n",
    "\n",
    "$f_{x,j}^{-}≔1+\\sum_{a=1}^{L}ω_{a,j}  \\delta \\big( y_{a,j},- \\big) $\n",
    "\n",
    "***\n",
    "## <span style=\"color:Green; font-family:PT Sans Narrow; font-size:1.1em\"> 6.2 Measuring the regularized incomplete beta function </span>\n",
    "\n",
    "\n",
    "$I_{x} (α,β)=F(x;α,β)=\\frac{ B(x;α,β) }{B(α,β)} $\n",
    "\n",
    "$ bdtrc(k,n,p) = I_{p} \\Big( \\lfloor {k} \\rfloor + 1 , n - \\lfloor {k} \\rfloor \\Big) = \\sum_{j = \\lfloor {k} \\rfloor + 1} ^ {n} \\binom {n}{j}p^{j}(1-p)^{n-j} $\n",
    "\n",
    "> [source](https://docs.scipy.org/doc/scipy/reference/generated/scipy.special.bdtrc.html)\n",
    "\n",
    "\n",
    "## <span style=\"color:Green; font-family:PT Sans Narrow; font-size:1.1em\"> 6.3 Certainty of majority class for both positive & negative labels </span>\n",
    "\n",
    "$F_{x,j} = max(I_{p} , 1-I_{p})$"
   ]
  },
  {
   "cell_type": "code",
   "execution_count": null,
   "metadata": {},
   "outputs": [
    {
     "data": {
      "text/html": [
       "<div>\n",
       "<style scoped>\n",
       "    .dataframe tbody tr th:only-of-type {\n",
       "        vertical-align: middle;\n",
       "    }\n",
       "\n",
       "    .dataframe tbody tr th {\n",
       "        vertical-align: top;\n",
       "    }\n",
       "\n",
       "    .dataframe thead th {\n",
       "        text-align: right;\n",
       "    }\n",
       "</style>\n",
       "<table border=\"1\" class=\"dataframe\">\n",
       "  <thead>\n",
       "    <tr style=\"text-align: right;\">\n",
       "      <th></th>\n",
       "      <th>method1</th>\n",
       "      <th>method2</th>\n",
       "    </tr>\n",
       "  </thead>\n",
       "  <tbody>\n",
       "    <tr>\n",
       "      <th>9</th>\n",
       "      <td>0.937500</td>\n",
       "      <td>0.964844</td>\n",
       "    </tr>\n",
       "    <tr>\n",
       "      <th>20</th>\n",
       "      <td>0.937500</td>\n",
       "      <td>0.964844</td>\n",
       "    </tr>\n",
       "    <tr>\n",
       "      <th>21</th>\n",
       "      <td>0.937500</td>\n",
       "      <td>0.964844</td>\n",
       "    </tr>\n",
       "    <tr>\n",
       "      <th>23</th>\n",
       "      <td>0.964844</td>\n",
       "      <td>0.980469</td>\n",
       "    </tr>\n",
       "    <tr>\n",
       "      <th>26</th>\n",
       "      <td>0.964844</td>\n",
       "      <td>0.980469</td>\n",
       "    </tr>\n",
       "    <tr>\n",
       "      <th>...</th>\n",
       "      <td>...</td>\n",
       "      <td>...</td>\n",
       "    </tr>\n",
       "    <tr>\n",
       "      <th>3169</th>\n",
       "      <td>1.000000</td>\n",
       "      <td>1.000000</td>\n",
       "    </tr>\n",
       "    <tr>\n",
       "      <th>3187</th>\n",
       "      <td>1.000000</td>\n",
       "      <td>1.000000</td>\n",
       "    </tr>\n",
       "    <tr>\n",
       "      <th>3189</th>\n",
       "      <td>1.000000</td>\n",
       "      <td>1.000000</td>\n",
       "    </tr>\n",
       "    <tr>\n",
       "      <th>3193</th>\n",
       "      <td>1.000000</td>\n",
       "      <td>1.000000</td>\n",
       "    </tr>\n",
       "    <tr>\n",
       "      <th>3194</th>\n",
       "      <td>1.000000</td>\n",
       "      <td>1.000000</td>\n",
       "    </tr>\n",
       "  </tbody>\n",
       "</table>\n",
       "<p>639 rows × 2 columns</p>\n",
       "</div>"
      ],
      "text/plain": [
       "       method1   method2\n",
       "9     0.937500  0.964844\n",
       "20    0.937500  0.964844\n",
       "21    0.937500  0.964844\n",
       "23    0.964844  0.980469\n",
       "26    0.964844  0.980469\n",
       "...        ...       ...\n",
       "3169  1.000000  1.000000\n",
       "3187  1.000000  1.000000\n",
       "3189  1.000000  1.000000\n",
       "3193  1.000000  1.000000\n",
       "3194  1.000000  1.000000\n",
       "\n",
       "[639 rows x 2 columns]"
      ]
     },
     "execution_count": 29,
     "metadata": {},
     "output_type": "execute_result"
    }
   ],
   "source": [
    "F2 = funcs.aim1_3_measure_confidense_score(delta=labels_all_workers, weights=weights, method=2, num_labelers=ARLS['num_labelers'], truth=true_labels['test'].truth)\n",
    "F2"
   ]
  },
  {
   "cell_type": "code",
   "execution_count": null,
   "metadata": {},
   "outputs": [],
   "source": []
  }
 ],
 "metadata": {
  "interpreter": {
   "hash": "4c397d553d3bffc1d44f9313f6e0b0005bb4921a90e5924fd80c986589024f2f"
  },
  "kernelspec": {
   "display_name": "Python 3.9.4 64-bit ('tf2_4': conda)",
   "name": "python3"
  },
  "language_info": {
   "codemirror_mode": {
    "name": "ipython",
    "version": 3
   },
   "file_extension": ".py",
   "mimetype": "text/x-python",
   "name": "python",
   "nbconvert_exporter": "python",
   "pygments_lexer": "ipython3",
   "version": "3.9.4"
  },
  "metadata": {
   "interpreter": {
    "hash": "97f50b47c5db4a373caba7d351ed0bd803d6a9b66b6e99b50d57389022e4f55d"
   }
  }
 },
 "nbformat": 4,
 "nbformat_minor": 2
}
